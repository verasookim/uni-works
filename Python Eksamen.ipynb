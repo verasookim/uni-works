{
 "cells": [
  {
   "cell_type": "markdown",
   "id": "5ec9a7c3",
   "metadata": {},
   "source": [
    "1.Question 1\n",
    "\n",
    "For this dataset I was required to assess a pre-saved data set called 'data.csv'. The data set stores the information about the customers' pattern of behaviour at a restaurant. It includes the following columns: total bill, tip, smoker, day, time and size.\n",
    "\n",
    "I thought it would be interesting to analyze some meaningful points about the data. Here are the points I've thought of.\n",
    "\n",
    "- Do people tip more when they pay more?\n",
    "- Which size group visits the most?\n",
    "- When is the busiest day, and when is the most quietest day?\n",
    "- Top 5 people who payed the most including all of the days.\n",
    "- Top 5 people who tipped the most including all of the days.\n",
    "- Which day had the most smokers visit?\n",
    "- Were there more smokers or more non-smokers?\n",
    "- Do people pay more if there is a smoker in the group?\n",
    "- What is the mean of tips?\n",
    "- What is the mean of total bills?"
   ]
  },
  {
   "cell_type": "markdown",
   "id": "78d40d49",
   "metadata": {},
   "source": [
    "2. Set Up\n",
    "\n",
    "In order to start coding, we need to import the necessary modules first."
   ]
  },
  {
   "cell_type": "code",
   "execution_count": 2,
   "id": "f9136450",
   "metadata": {},
   "outputs": [],
   "source": [
    "import pandas as pd\n",
    "import numpy as np\n",
    "import csv\n",
    "import matplotlib.pyplot as plt\n",
    "import seaborn as sns"
   ]
  },
  {
   "cell_type": "markdown",
   "id": "bb8bb18d",
   "metadata": {},
   "source": [
    "3. Import Dataset"
   ]
  },
  {
   "cell_type": "code",
   "execution_count": 3,
   "id": "dad8e05d",
   "metadata": {},
   "outputs": [
    {
     "data": {
      "text/html": [
       "<div>\n",
       "<style scoped>\n",
       "    .dataframe tbody tr th:only-of-type {\n",
       "        vertical-align: middle;\n",
       "    }\n",
       "\n",
       "    .dataframe tbody tr th {\n",
       "        vertical-align: top;\n",
       "    }\n",
       "\n",
       "    .dataframe thead th {\n",
       "        text-align: right;\n",
       "    }\n",
       "</style>\n",
       "<table border=\"1\" class=\"dataframe\">\n",
       "  <thead>\n",
       "    <tr style=\"text-align: right;\">\n",
       "      <th></th>\n",
       "      <th>total_bill</th>\n",
       "      <th>tip</th>\n",
       "      <th>smoker</th>\n",
       "      <th>day</th>\n",
       "      <th>time</th>\n",
       "      <th>size</th>\n",
       "    </tr>\n",
       "  </thead>\n",
       "  <tbody>\n",
       "    <tr>\n",
       "      <th>0</th>\n",
       "      <td>16.99</td>\n",
       "      <td>1.01</td>\n",
       "      <td>No</td>\n",
       "      <td>Sun</td>\n",
       "      <td>Dinner</td>\n",
       "      <td>2</td>\n",
       "    </tr>\n",
       "    <tr>\n",
       "      <th>1</th>\n",
       "      <td>10.34</td>\n",
       "      <td>1.66</td>\n",
       "      <td>No</td>\n",
       "      <td>Sun</td>\n",
       "      <td>Dinner</td>\n",
       "      <td>3</td>\n",
       "    </tr>\n",
       "    <tr>\n",
       "      <th>2</th>\n",
       "      <td>21.01</td>\n",
       "      <td>3.50</td>\n",
       "      <td>No</td>\n",
       "      <td>Sun</td>\n",
       "      <td>Dinner</td>\n",
       "      <td>3</td>\n",
       "    </tr>\n",
       "    <tr>\n",
       "      <th>3</th>\n",
       "      <td>23.68</td>\n",
       "      <td>3.31</td>\n",
       "      <td>No</td>\n",
       "      <td>Sun</td>\n",
       "      <td>Dinner</td>\n",
       "      <td>2</td>\n",
       "    </tr>\n",
       "    <tr>\n",
       "      <th>4</th>\n",
       "      <td>24.59</td>\n",
       "      <td>3.61</td>\n",
       "      <td>No</td>\n",
       "      <td>Sun</td>\n",
       "      <td>Dinner</td>\n",
       "      <td>4</td>\n",
       "    </tr>\n",
       "    <tr>\n",
       "      <th>...</th>\n",
       "      <td>...</td>\n",
       "      <td>...</td>\n",
       "      <td>...</td>\n",
       "      <td>...</td>\n",
       "      <td>...</td>\n",
       "      <td>...</td>\n",
       "    </tr>\n",
       "    <tr>\n",
       "      <th>239</th>\n",
       "      <td>29.03</td>\n",
       "      <td>5.92</td>\n",
       "      <td>No</td>\n",
       "      <td>Sat</td>\n",
       "      <td>Dinner</td>\n",
       "      <td>3</td>\n",
       "    </tr>\n",
       "    <tr>\n",
       "      <th>240</th>\n",
       "      <td>27.18</td>\n",
       "      <td>2.00</td>\n",
       "      <td>Yes</td>\n",
       "      <td>Sat</td>\n",
       "      <td>Dinner</td>\n",
       "      <td>2</td>\n",
       "    </tr>\n",
       "    <tr>\n",
       "      <th>241</th>\n",
       "      <td>22.67</td>\n",
       "      <td>2.00</td>\n",
       "      <td>Yes</td>\n",
       "      <td>Sat</td>\n",
       "      <td>Dinner</td>\n",
       "      <td>2</td>\n",
       "    </tr>\n",
       "    <tr>\n",
       "      <th>242</th>\n",
       "      <td>17.82</td>\n",
       "      <td>1.75</td>\n",
       "      <td>No</td>\n",
       "      <td>Sat</td>\n",
       "      <td>Dinner</td>\n",
       "      <td>2</td>\n",
       "    </tr>\n",
       "    <tr>\n",
       "      <th>243</th>\n",
       "      <td>18.78</td>\n",
       "      <td>3.00</td>\n",
       "      <td>No</td>\n",
       "      <td>Thur</td>\n",
       "      <td>Dinner</td>\n",
       "      <td>2</td>\n",
       "    </tr>\n",
       "  </tbody>\n",
       "</table>\n",
       "<p>244 rows × 6 columns</p>\n",
       "</div>"
      ],
      "text/plain": [
       "     total_bill   tip smoker   day    time  size\n",
       "0         16.99  1.01     No   Sun  Dinner     2\n",
       "1         10.34  1.66     No   Sun  Dinner     3\n",
       "2         21.01  3.50     No   Sun  Dinner     3\n",
       "3         23.68  3.31     No   Sun  Dinner     2\n",
       "4         24.59  3.61     No   Sun  Dinner     4\n",
       "..          ...   ...    ...   ...     ...   ...\n",
       "239       29.03  5.92     No   Sat  Dinner     3\n",
       "240       27.18  2.00    Yes   Sat  Dinner     2\n",
       "241       22.67  2.00    Yes   Sat  Dinner     2\n",
       "242       17.82  1.75     No   Sat  Dinner     2\n",
       "243       18.78  3.00     No  Thur  Dinner     2\n",
       "\n",
       "[244 rows x 6 columns]"
      ]
     },
     "execution_count": 3,
     "metadata": {},
     "output_type": "execute_result"
    }
   ],
   "source": [
    "restaurant = pd.read_csv('data.csv')\n",
    "restaurant"
   ]
  },
  {
   "cell_type": "markdown",
   "id": "3a302b7b",
   "metadata": {},
   "source": [
    "4. Finding out data type and performing data cleaning"
   ]
  },
  {
   "cell_type": "code",
   "execution_count": 4,
   "id": "5437aa66",
   "metadata": {},
   "outputs": [
    {
     "data": {
      "text/plain": [
       "total_bill    float64\n",
       "tip           float64\n",
       "smoker         object\n",
       "day            object\n",
       "time           object\n",
       "size            int64\n",
       "dtype: object"
      ]
     },
     "execution_count": 4,
     "metadata": {},
     "output_type": "execute_result"
    }
   ],
   "source": [
    "restaurant.dtypes"
   ]
  },
  {
   "cell_type": "code",
   "execution_count": 5,
   "id": "66daefca",
   "metadata": {},
   "outputs": [
    {
     "data": {
      "text/plain": [
       "<bound method DataFrame.dropna of      total_bill   tip smoker   day    time  size\n",
       "0         16.99  1.01     No   Sun  Dinner     2\n",
       "1         10.34  1.66     No   Sun  Dinner     3\n",
       "2         21.01  3.50     No   Sun  Dinner     3\n",
       "3         23.68  3.31     No   Sun  Dinner     2\n",
       "4         24.59  3.61     No   Sun  Dinner     4\n",
       "..          ...   ...    ...   ...     ...   ...\n",
       "239       29.03  5.92     No   Sat  Dinner     3\n",
       "240       27.18  2.00    Yes   Sat  Dinner     2\n",
       "241       22.67  2.00    Yes   Sat  Dinner     2\n",
       "242       17.82  1.75     No   Sat  Dinner     2\n",
       "243       18.78  3.00     No  Thur  Dinner     2\n",
       "\n",
       "[244 rows x 6 columns]>"
      ]
     },
     "execution_count": 5,
     "metadata": {},
     "output_type": "execute_result"
    }
   ],
   "source": [
    "restaurant.dropna"
   ]
  },
  {
   "cell_type": "markdown",
   "id": "d18e5ff1",
   "metadata": {},
   "source": [
    "5. Data Analyzation\n",
    "\n",
    "We will first see the top 5 customers who paid the most bills and tips"
   ]
  },
  {
   "cell_type": "code",
   "execution_count": 6,
   "id": "2b4d64fc",
   "metadata": {},
   "outputs": [
    {
     "data": {
      "text/html": [
       "<div>\n",
       "<style scoped>\n",
       "    .dataframe tbody tr th:only-of-type {\n",
       "        vertical-align: middle;\n",
       "    }\n",
       "\n",
       "    .dataframe tbody tr th {\n",
       "        vertical-align: top;\n",
       "    }\n",
       "\n",
       "    .dataframe thead th {\n",
       "        text-align: right;\n",
       "    }\n",
       "</style>\n",
       "<table border=\"1\" class=\"dataframe\">\n",
       "  <thead>\n",
       "    <tr style=\"text-align: right;\">\n",
       "      <th></th>\n",
       "      <th>total_bill</th>\n",
       "      <th>tip</th>\n",
       "      <th>smoker</th>\n",
       "      <th>day</th>\n",
       "      <th>time</th>\n",
       "      <th>size</th>\n",
       "    </tr>\n",
       "  </thead>\n",
       "  <tbody>\n",
       "    <tr>\n",
       "      <th>170</th>\n",
       "      <td>50.81</td>\n",
       "      <td>10.00</td>\n",
       "      <td>Yes</td>\n",
       "      <td>Sat</td>\n",
       "      <td>Dinner</td>\n",
       "      <td>3</td>\n",
       "    </tr>\n",
       "    <tr>\n",
       "      <th>212</th>\n",
       "      <td>48.33</td>\n",
       "      <td>9.00</td>\n",
       "      <td>No</td>\n",
       "      <td>Sat</td>\n",
       "      <td>Dinner</td>\n",
       "      <td>4</td>\n",
       "    </tr>\n",
       "    <tr>\n",
       "      <th>59</th>\n",
       "      <td>48.27</td>\n",
       "      <td>6.73</td>\n",
       "      <td>No</td>\n",
       "      <td>Sat</td>\n",
       "      <td>Dinner</td>\n",
       "      <td>4</td>\n",
       "    </tr>\n",
       "    <tr>\n",
       "      <th>156</th>\n",
       "      <td>48.17</td>\n",
       "      <td>5.00</td>\n",
       "      <td>No</td>\n",
       "      <td>Sun</td>\n",
       "      <td>Dinner</td>\n",
       "      <td>6</td>\n",
       "    </tr>\n",
       "    <tr>\n",
       "      <th>182</th>\n",
       "      <td>45.35</td>\n",
       "      <td>3.50</td>\n",
       "      <td>Yes</td>\n",
       "      <td>Sun</td>\n",
       "      <td>Dinner</td>\n",
       "      <td>3</td>\n",
       "    </tr>\n",
       "  </tbody>\n",
       "</table>\n",
       "</div>"
      ],
      "text/plain": [
       "     total_bill    tip smoker  day    time  size\n",
       "170       50.81  10.00    Yes  Sat  Dinner     3\n",
       "212       48.33   9.00     No  Sat  Dinner     4\n",
       "59        48.27   6.73     No  Sat  Dinner     4\n",
       "156       48.17   5.00     No  Sun  Dinner     6\n",
       "182       45.35   3.50    Yes  Sun  Dinner     3"
      ]
     },
     "execution_count": 6,
     "metadata": {},
     "output_type": "execute_result"
    }
   ],
   "source": [
    "#top 5 total bills\n",
    "restaurant.sort_values(by='total_bill', ascending=False).head()"
   ]
  },
  {
   "cell_type": "code",
   "execution_count": 7,
   "id": "9dc10a89",
   "metadata": {},
   "outputs": [
    {
     "data": {
      "text/html": [
       "<div>\n",
       "<style scoped>\n",
       "    .dataframe tbody tr th:only-of-type {\n",
       "        vertical-align: middle;\n",
       "    }\n",
       "\n",
       "    .dataframe tbody tr th {\n",
       "        vertical-align: top;\n",
       "    }\n",
       "\n",
       "    .dataframe thead th {\n",
       "        text-align: right;\n",
       "    }\n",
       "</style>\n",
       "<table border=\"1\" class=\"dataframe\">\n",
       "  <thead>\n",
       "    <tr style=\"text-align: right;\">\n",
       "      <th></th>\n",
       "      <th>total_bill</th>\n",
       "      <th>tip</th>\n",
       "      <th>smoker</th>\n",
       "      <th>day</th>\n",
       "      <th>time</th>\n",
       "      <th>size</th>\n",
       "    </tr>\n",
       "  </thead>\n",
       "  <tbody>\n",
       "    <tr>\n",
       "      <th>170</th>\n",
       "      <td>50.81</td>\n",
       "      <td>10.00</td>\n",
       "      <td>Yes</td>\n",
       "      <td>Sat</td>\n",
       "      <td>Dinner</td>\n",
       "      <td>3</td>\n",
       "    </tr>\n",
       "    <tr>\n",
       "      <th>212</th>\n",
       "      <td>48.33</td>\n",
       "      <td>9.00</td>\n",
       "      <td>No</td>\n",
       "      <td>Sat</td>\n",
       "      <td>Dinner</td>\n",
       "      <td>4</td>\n",
       "    </tr>\n",
       "    <tr>\n",
       "      <th>23</th>\n",
       "      <td>39.42</td>\n",
       "      <td>7.58</td>\n",
       "      <td>No</td>\n",
       "      <td>Sat</td>\n",
       "      <td>Dinner</td>\n",
       "      <td>4</td>\n",
       "    </tr>\n",
       "    <tr>\n",
       "      <th>59</th>\n",
       "      <td>48.27</td>\n",
       "      <td>6.73</td>\n",
       "      <td>No</td>\n",
       "      <td>Sat</td>\n",
       "      <td>Dinner</td>\n",
       "      <td>4</td>\n",
       "    </tr>\n",
       "    <tr>\n",
       "      <th>141</th>\n",
       "      <td>34.30</td>\n",
       "      <td>6.70</td>\n",
       "      <td>No</td>\n",
       "      <td>Thur</td>\n",
       "      <td>Lunch</td>\n",
       "      <td>6</td>\n",
       "    </tr>\n",
       "  </tbody>\n",
       "</table>\n",
       "</div>"
      ],
      "text/plain": [
       "     total_bill    tip smoker   day    time  size\n",
       "170       50.81  10.00    Yes   Sat  Dinner     3\n",
       "212       48.33   9.00     No   Sat  Dinner     4\n",
       "23        39.42   7.58     No   Sat  Dinner     4\n",
       "59        48.27   6.73     No   Sat  Dinner     4\n",
       "141       34.30   6.70     No  Thur   Lunch     6"
      ]
     },
     "execution_count": 7,
     "metadata": {},
     "output_type": "execute_result"
    }
   ],
   "source": [
    "#top 5 total tips\n",
    "restaurant.sort_values(by='tip', ascending=False).head()\n",
    "\n",
    "#we can see that customer170 is top 1 in both total bills and tips"
   ]
  },
  {
   "cell_type": "code",
   "execution_count": 8,
   "id": "d194d961",
   "metadata": {},
   "outputs": [
    {
     "data": {
      "image/png": "[encoded data removed]",
      "text/plain": [
       "<Figure size 432x288 with 1 Axes>"
      ]
     },
     "metadata": {
      "needs_background": "light"
     },
     "output_type": "display_data"
    }
   ],
   "source": [
    "#We will look at the relations of size of groups, total_bill and tips\n",
    "#The style is defined by 'smoker' to see if the group included someone who smokes\n",
    "\n",
    "sns.scatterplot(data=restaurant, x=\"total_bill\", y=\"tip\", hue='size',style=restaurant['smoker'])\n",
    "\n",
    "plt.show()\n",
    "\n",
    "#Lot of the dots are concentrated at the 10~20 column for total_bills, which means people were more likely to pay less.\n",
    "#More dots have a lighter tone which means people tend to come in smaller groups of 1~3\n",
    "#Difference between the amount of smokers and non-smokers are not that distinctive, we will look into this by calculating actual numbers later on in this report.\n"
   ]
  },
  {
   "cell_type": "code",
   "execution_count": 9,
   "id": "b84b0c75",
   "metadata": {},
   "outputs": [
    {
     "data": {
      "image/png": "[encoded data removed]",
      "text/plain": [
       "<Figure size 432x288 with 1 Axes>"
      ]
     },
     "metadata": {
      "needs_background": "light"
     },
     "output_type": "display_data"
    }
   ],
   "source": [
    "#creating days to separate each day for analyzation\n",
    "days = ['Thur', 'Fri', 'Sat', 'Sun']\n",
    "sns.countplot(x =(\"day\"), hue=\"size\", palette='pastel', data=restaurant, order=days)\n",
    "plt.show()\n",
    "\n",
    "#People visit in groups of 2 the most. Saturday is the busiest day and Friday is the most quiet day. \n",
    "#Size 2,3,4 are the most prominent groups in this graph, and the rest of the sizes indicates a very few number of visits."
   ]
  },
  {
   "cell_type": "code",
   "execution_count": 10,
   "id": "0f3c3daf",
   "metadata": {},
   "outputs": [
    {
     "data": {
      "image/png": "[encoded data removed]",
      "text/plain": [
       "<Figure size 432x288 with 1 Axes>"
      ]
     },
     "metadata": {
      "needs_background": "light"
     },
     "output_type": "display_data"
    }
   ],
   "source": [
    "smoker_count = dict(Yes=\"Black\", No=\"Yellow\")\n",
    "sns.countplot(x=\"day\", hue=\"smoker\", data=restaurant, palette=smoker_count, order=days)\n",
    "plt.show()\n",
    "\n",
    "#There are more non-smokers than smokers in general.\n",
    "#Friday is the only day that smokers outnumber non-smokers.\n",
    "#At Saturday, the count for smokers and non-smokers are almost equal."
   ]
  },
  {
   "cell_type": "code",
   "execution_count": 11,
   "id": "3e151af2",
   "metadata": {},
   "outputs": [
    {
     "data": {
      "image/png": "[encoded data removed]",
      "text/plain": [
       "<Figure size 412x360 with 1 Axes>"
      ]
     },
     "metadata": {
      "needs_background": "light"
     },
     "output_type": "display_data"
    }
   ],
   "source": [
    "#Relation between amount of smokers and total_bill and tips\n",
    "\n",
    "n = sns.lmplot(x='total_bill', y='tip', hue='smoker', data=restaurant, markers=['x','o'])\n",
    "\n",
    "#It does not seem like people pay more because there is a smoker in the group. \n",
    "#People actually pay more when there are no smokers in the group.\n",
    "#But this could be influenced by the size of the group so we cannot be absolutely sure about the result."
   ]
  },
  {
   "cell_type": "code",
   "execution_count": 12,
   "id": "ee763433",
   "metadata": {},
   "outputs": [
    {
     "data": {
      "text/plain": [
       "total_bill    19.785943\n",
       "tip            2.998279\n",
       "size           2.569672\n",
       "dtype: float64"
      ]
     },
     "execution_count": 12,
     "metadata": {},
     "output_type": "execute_result"
    }
   ],
   "source": [
    "#Mean of total bill, tip and size of groups\n",
    "restaurant.mean(axis=0)"
   ]
  },
  {
   "cell_type": "code",
   "execution_count": 13,
   "id": "a82a8d83",
   "metadata": {},
   "outputs": [
    {
     "data": {
      "text/html": [
       "<div>\n",
       "<style scoped>\n",
       "    .dataframe tbody tr th:only-of-type {\n",
       "        vertical-align: middle;\n",
       "    }\n",
       "\n",
       "    .dataframe tbody tr th {\n",
       "        vertical-align: top;\n",
       "    }\n",
       "\n",
       "    .dataframe thead th {\n",
       "        text-align: right;\n",
       "    }\n",
       "</style>\n",
       "<table border=\"1\" class=\"dataframe\">\n",
       "  <thead>\n",
       "    <tr style=\"text-align: right;\">\n",
       "      <th></th>\n",
       "      <th>total_bill</th>\n",
       "      <th>tip</th>\n",
       "      <th>size</th>\n",
       "    </tr>\n",
       "  </thead>\n",
       "  <tbody>\n",
       "    <tr>\n",
       "      <th>count</th>\n",
       "      <td>244.000000</td>\n",
       "      <td>244.000000</td>\n",
       "      <td>244.000000</td>\n",
       "    </tr>\n",
       "    <tr>\n",
       "      <th>mean</th>\n",
       "      <td>19.785943</td>\n",
       "      <td>2.998279</td>\n",
       "      <td>2.569672</td>\n",
       "    </tr>\n",
       "    <tr>\n",
       "      <th>std</th>\n",
       "      <td>8.902412</td>\n",
       "      <td>1.383638</td>\n",
       "      <td>0.951100</td>\n",
       "    </tr>\n",
       "    <tr>\n",
       "      <th>min</th>\n",
       "      <td>3.070000</td>\n",
       "      <td>1.000000</td>\n",
       "      <td>1.000000</td>\n",
       "    </tr>\n",
       "    <tr>\n",
       "      <th>25%</th>\n",
       "      <td>13.347500</td>\n",
       "      <td>2.000000</td>\n",
       "      <td>2.000000</td>\n",
       "    </tr>\n",
       "    <tr>\n",
       "      <th>50%</th>\n",
       "      <td>17.795000</td>\n",
       "      <td>2.900000</td>\n",
       "      <td>2.000000</td>\n",
       "    </tr>\n",
       "    <tr>\n",
       "      <th>75%</th>\n",
       "      <td>24.127500</td>\n",
       "      <td>3.562500</td>\n",
       "      <td>3.000000</td>\n",
       "    </tr>\n",
       "    <tr>\n",
       "      <th>max</th>\n",
       "      <td>50.810000</td>\n",
       "      <td>10.000000</td>\n",
       "      <td>6.000000</td>\n",
       "    </tr>\n",
       "  </tbody>\n",
       "</table>\n",
       "</div>"
      ],
      "text/plain": [
       "       total_bill         tip        size\n",
       "count  244.000000  244.000000  244.000000\n",
       "mean    19.785943    2.998279    2.569672\n",
       "std      8.902412    1.383638    0.951100\n",
       "min      3.070000    1.000000    1.000000\n",
       "25%     13.347500    2.000000    2.000000\n",
       "50%     17.795000    2.900000    2.000000\n",
       "75%     24.127500    3.562500    3.000000\n",
       "max     50.810000   10.000000    6.000000"
      ]
     },
     "execution_count": 13,
     "metadata": {},
     "output_type": "execute_result"
    }
   ],
   "source": [
    "#If you need more information than mean you can use 'describe' to retrieve the statistical informations.\n",
    "restaurant.describe()"
   ]
  },
  {
   "cell_type": "markdown",
   "id": "193d9f49",
   "metadata": {},
   "source": [
    "2. Question 2"
   ]
  },
  {
   "cell_type": "markdown",
   "id": "52ed32f8",
   "metadata": {},
   "source": [
    "#Create 16 Series"
   ]
  },
  {
   "cell_type": "code",
   "execution_count": 14,
   "id": "7d240272",
   "metadata": {},
   "outputs": [
    {
     "data": {
      "text/plain": [
       "name                                       Oslo University Hospital\n",
       "major_location                                                 Oslo\n",
       "established                                                    2009\n",
       "main_campus                                     Aker, Riks, Ullevål\n",
       "description       With over 24,000 employees it is the largest h...\n",
       "dtype: object"
      ]
     },
     "execution_count": 14,
     "metadata": {},
     "output_type": "execute_result"
    }
   ],
   "source": [
    "hs1 = pd.Series(['Oslo University Hospital','Oslo',2009,'Aker, Riks, Ullevål','With over 24,000 employees it is the largest hospital organization in Europe.'], \n",
    "      index = ['name','major_location','established','main_campus','description'])\n",
    "\n",
    "hs1"
   ]
  },
  {
   "cell_type": "code",
   "execution_count": 15,
   "id": "e9892731",
   "metadata": {},
   "outputs": [
    {
     "data": {
      "text/plain": [
       "name                                 Møre og Romsdal Hospital Trust\n",
       "major_location                                              Ålesund\n",
       "established                                                    2011\n",
       "main_campus                        Kristiansund,Molde,Ålesund,Volda\n",
       "description       The trust is owned by Central Norway Regional ...\n",
       "dtype: object"
      ]
     },
     "execution_count": 15,
     "metadata": {},
     "output_type": "execute_result"
    }
   ],
   "source": [
    "hs2 = pd.Series(['Møre og Romsdal Hospital Trust','Ålesund',2011,'Kristiansund,Molde,Ålesund,Volda','The trust is owned by Central Norway Regional Health Authority'],\n",
    "               index=['name','major_location','established','main_campus','description'])\n",
    "hs2\n"
   ]
  },
  {
   "cell_type": "code",
   "execution_count": 16,
   "id": "0327e410",
   "metadata": {},
   "outputs": [
    {
     "data": {
      "text/plain": [
       "name                                    Nord-Trøndelag Health Trust\n",
       "major_location                                       Nord-Trøndelag\n",
       "established                                                    2012\n",
       "main_campus                                        Levanger, Namsos\n",
       "description       The trust has about 2,500 employees and has ab...\n",
       "dtype: object"
      ]
     },
     "execution_count": 16,
     "metadata": {},
     "output_type": "execute_result"
    }
   ],
   "source": [
    "hs3 = pd.Series(['Nord-Trøndelag Health Trust','Nord-Trøndelag',2012,'Levanger, Namsos','The trust has about 2,500 employees and has about 200,000 patient contacts per year'], \n",
    "      index = ['name','major_location','established','main_campus','description'])\n",
    "\n",
    "hs3"
   ]
  },
  {
   "cell_type": "code",
   "execution_count": 17,
   "id": "53f5f6e0",
   "metadata": {},
   "outputs": [
    {
     "data": {
      "text/plain": [
       "name                                   St.Olavs University Hospital\n",
       "major_location                                            Trondheim\n",
       "established                                                    1902\n",
       "main_campus                                                     Øya\n",
       "description       It performed 274,441 somatic and 88,692 psychi...\n",
       "dtype: object"
      ]
     },
     "execution_count": 17,
     "metadata": {},
     "output_type": "execute_result"
    }
   ],
   "source": [
    "hs4 = pd.Series(['St.Olavs University Hospital','Trondheim',1902,'Øya','It performed 274,441 somatic and 88,692 psychiatric consultations in 2005 with 8,691 employees and a budget of Norwegian krone 5.1 billion.'], \n",
    "      index = ['name','major_location','established','main_campus','description'])\n",
    "hs4"
   ]
  },
  {
   "cell_type": "code",
   "execution_count": 18,
   "id": "8816417e",
   "metadata": {},
   "outputs": [
    {
     "data": {
      "text/plain": [
       "name                                        Finnmark Hospital Trust\n",
       "major_location                                             Finnmark\n",
       "established                                                    2005\n",
       "main_campus                                    Hammerfest, Kirkenes\n",
       "description       The trust is part of Northern Norway Regional ...\n",
       "dtype: object"
      ]
     },
     "execution_count": 18,
     "metadata": {},
     "output_type": "execute_result"
    }
   ],
   "source": [
    "hs5 = pd.Series(['Finnmark Hospital Trust','Finnmark',2005,'Hammerfest, Kirkenes','The trust is part of Northern Norway Regional Health Authority and headquartered in Hammerfest.'], \n",
    "      index = ['name','major_location','established','main_campus','description'])\n",
    "hs5"
   ]
  },
  {
   "cell_type": "code",
   "execution_count": 19,
   "id": "25aa31d0",
   "metadata": {},
   "outputs": [
    {
     "data": {
      "text/plain": [
       "name                        Helgeland Hospital Trust\n",
       "major_location                             Helgeland\n",
       "established                                     2002\n",
       "main_campus         Mo i Rana, Mosjøen, Sandnessjøen\n",
       "description       It has a polyclinic in Brønnøysund\n",
       "dtype: object"
      ]
     },
     "execution_count": 19,
     "metadata": {},
     "output_type": "execute_result"
    }
   ],
   "source": [
    "hs6 = pd.Series(['Helgeland Hospital Trust','Helgeland',2002,'Mo i Rana, Mosjøen, Sandnessjøen','It has a polyclinic in Brønnøysund'], \n",
    "      index = ['name','major_location','established','main_campus','description'])\n",
    "hs6"
   ]
  },
  {
   "cell_type": "code",
   "execution_count": 20,
   "id": "3ec14489",
   "metadata": {},
   "outputs": [
    {
     "data": {
      "text/plain": [
       "name                                        Nordland Hospital Trust\n",
       "major_location                                             Nordland\n",
       "established                                                    2002\n",
       "main_campus                          Bodø,Rønvik,Lofoten,Vesterålen\n",
       "description       Manages several minor psychiatric treatment fa...\n",
       "dtype: object"
      ]
     },
     "execution_count": 20,
     "metadata": {},
     "output_type": "execute_result"
    }
   ],
   "source": [
    "hs7 = pd.Series(['Nordland Hospital Trust','Nordland',2002,'Bodø,Rønvik,Lofoten,Vesterålen','Manages several minor psychiatric treatment facilities in the county.'], \n",
    "      index = ['name','major_location','established','main_campus','description'])\n",
    "\n",
    "hs7"
   ]
  },
  {
   "cell_type": "code",
   "execution_count": 21,
   "id": "f1bfb206",
   "metadata": {},
   "outputs": [
    {
     "data": {
      "text/plain": [
       "name                                   Akershus University Hospital\n",
       "major_location                                         Greater Oslo\n",
       "established                                                    1961\n",
       "main_campus                                               Lørenskog\n",
       "description       Since 2002, the university hospital has figure...\n",
       "dtype: object"
      ]
     },
     "execution_count": 21,
     "metadata": {},
     "output_type": "execute_result"
    }
   ],
   "source": [
    "hs8 = pd.Series(['Akershus University Hospital','Greater Oslo',1961,'Lørenskog','Since 2002, the university hospital has figured prominently in medical research and medical education.'], \n",
    "      index = ['name','major_location','established','main_campus','description'])\n",
    "\n",
    "hs8"
   ]
  },
  {
   "cell_type": "code",
   "execution_count": 22,
   "id": "82e58fa3",
   "metadata": {},
   "outputs": [
    {
     "data": {
      "text/plain": [
       "name                                       Innlandet Hospital Trust\n",
       "major_location                                      Hedmark,Oppland\n",
       "established                                                    2001\n",
       "main_campus       Elverum-Hamar,Gjøvik,Lillehammer,Kongsvinger,T...\n",
       "description       It is owned by Southern and Eastern Norway Reg...\n",
       "dtype: object"
      ]
     },
     "execution_count": 22,
     "metadata": {},
     "output_type": "execute_result"
    }
   ],
   "source": [
    "hs9 = pd.Series(['Innlandet Hospital Trust','Hedmark,Oppland',2001,'Elverum-Hamar,Gjøvik,Lillehammer,Kongsvinger,Tynset','It is owned by Southern and Eastern Norway Regional Health Authority.'], \n",
    "      index = ['name','major_location','established','main_campus','description'])\n",
    "hs9"
   ]
  },
  {
   "cell_type": "code",
   "execution_count": 23,
   "id": "385a9527",
   "metadata": {},
   "outputs": [
    {
     "data": {
      "text/plain": [
       "name                                    Vestre Viken Hospital Trust\n",
       "major_location                                              Drammen\n",
       "established                                                    1878\n",
       "main_campus                    Kongsberg, Ringerike, Bærum, Drammen\n",
       "description       It covers an area with 470,000 residents in 26...\n",
       "dtype: object"
      ]
     },
     "execution_count": 23,
     "metadata": {},
     "output_type": "execute_result"
    }
   ],
   "source": [
    "hs10 = pd.Series(['Vestre Viken Hospital Trust','Drammen',1878,'Kongsberg, Ringerike, Bærum, Drammen','It covers an area with 470,000 residents in 26 municipalities.'], \n",
    "      index = ['name','major_location','established','main_campus','description'])\n",
    "hs10"
   ]
  },
  {
   "cell_type": "code",
   "execution_count": 24,
   "id": "6b6cc1f4",
   "metadata": {},
   "outputs": [
    {
     "data": {
      "text/plain": [
       "name                                        Telemark Hospital Trust\n",
       "major_location                                                Skien\n",
       "established                                                    1988\n",
       "main_campus                                                   Skien\n",
       "description       The total employees in 2003 were 2750, of whic...\n",
       "dtype: object"
      ]
     },
     "execution_count": 24,
     "metadata": {},
     "output_type": "execute_result"
    }
   ],
   "source": [
    "hs11 = pd.Series(['Telemark Hospital Trust','Skien',1988,'Skien','The total employees in 2003 were 2750, of which 215 were doctors.'], \n",
    "      index = ['name','major_location','established','main_campus','description'])\n",
    "hs11"
   ]
  },
  {
   "cell_type": "code",
   "execution_count": 25,
   "id": "e69f5ba8",
   "metadata": {},
   "outputs": [
    {
     "data": {
      "text/plain": [
       "name                                        Vestfold Hospital Trust\n",
       "major_location                                             Vestfold\n",
       "established                                                    1870\n",
       "main_campus                                                Tønsberg\n",
       "description       It is owned by the Norwegian state through Sou...\n",
       "dtype: object"
      ]
     },
     "execution_count": 25,
     "metadata": {},
     "output_type": "execute_result"
    }
   ],
   "source": [
    "hs12 = pd.Series(['Vestfold Hospital Trust','Vestfold',1870,'Tønsberg','It is owned by the Norwegian state through Southern and Eastern Norway Regional Health Authority.'], \n",
    "      index = ['name','major_location','established','main_campus','description'])\n",
    "hs12"
   ]
  },
  {
   "cell_type": "code",
   "execution_count": 26,
   "id": "755915a7",
   "metadata": {},
   "outputs": [
    {
     "data": {
      "text/plain": [
       "name                                    Hospital of Southern Norway\n",
       "major_location                                                Agder\n",
       "established                                                    2003\n",
       "main_campus                        Arendal,Flekkefjord,Kristiansand\n",
       "description       There are also smaller centres at Risør, Grims...\n",
       "dtype: object"
      ]
     },
     "execution_count": 26,
     "metadata": {},
     "output_type": "execute_result"
    }
   ],
   "source": [
    "hs13 = pd.Series(['Hospital of Southern Norway','Agder',2003,'Arendal,Flekkefjord,Kristiansand','There are also smaller centres at Risør, Grimstad, Mandal and Farsund.'], \n",
    "      index = ['name','major_location','established','main_campus','description'])\n",
    "hs13"
   ]
  },
  {
   "cell_type": "code",
   "execution_count": 27,
   "id": "ad381e34",
   "metadata": {},
   "outputs": [
    {
     "data": {
      "text/plain": [
       "name                                           Fonna Hospital Trust\n",
       "major_location                                            Haugesund\n",
       "established                                                    2002\n",
       "main_campus                        Haugaland,Sunnhordland,Hardanger\n",
       "description       Fonna Health Trust is one of five local health...\n",
       "dtype: object"
      ]
     },
     "execution_count": 27,
     "metadata": {},
     "output_type": "execute_result"
    }
   ],
   "source": [
    "hs14 = pd.Series(['Fonna Hospital Trust','Haugesund',2002,'Haugaland,Sunnhordland,Hardanger','Fonna Health Trust is one of five local health trusts owned by Western Norway Regional Health Authority.'], \n",
    "      index = ['name','major_location','established','main_campus','description'])\n",
    "hs14"
   ]
  },
  {
   "cell_type": "code",
   "execution_count": 28,
   "id": "2914b663",
   "metadata": {},
   "outputs": [
    {
     "data": {
      "text/plain": [
       "name                                           Førde Hospital Trust\n",
       "major_location                                     Sogn og Fjordane\n",
       "established                                                    2002\n",
       "main_campus                                Nordfjord,Sunnfjord,Sogn\n",
       "description       There are six clinics and one division, divide...\n",
       "dtype: object"
      ]
     },
     "execution_count": 28,
     "metadata": {},
     "output_type": "execute_result"
    }
   ],
   "source": [
    "hs15 = pd.Series(['Førde Hospital Trust','Sogn og Fjordane',2002,'Nordfjord,Sunnfjord,Sogn','There are six clinics and one division, divided into four hospitals and other somatic and psychiatric institutions in Nordfjord, Sunnfjord and Sogn.'], \n",
    "      index = ['name','major_location','established','main_campus','description'])\n",
    "hs15"
   ]
  },
  {
   "cell_type": "code",
   "execution_count": 29,
   "id": "4950e037",
   "metadata": {},
   "outputs": [
    {
     "data": {
      "text/plain": [
       "name                                          Bergen Hospital Trust\n",
       "major_location                                               Bergen\n",
       "established                                                    2002\n",
       "main_campus                                               Hordaland\n",
       "description       One of the five health trusts owned by the Wes...\n",
       "dtype: object"
      ]
     },
     "execution_count": 29,
     "metadata": {},
     "output_type": "execute_result"
    }
   ],
   "source": [
    "hs16 = pd.Series(['Bergen Hospital Trust','Bergen',2002,'Hordaland','One of the five health trusts owned by the Western Norway Regional Health Authority.'], \n",
    "      index = ['name','major_location','established','main_campus','description'])\n",
    "\n",
    "hs16"
   ]
  },
  {
   "cell_type": "markdown",
   "id": "998775b8",
   "metadata": {},
   "source": [
    "#Create Dataframes"
   ]
  },
  {
   "cell_type": "code",
   "execution_count": 30,
   "id": "1d4b4183",
   "metadata": {},
   "outputs": [
    {
     "data": {
      "text/html": [
       "<div>\n",
       "<style scoped>\n",
       "    .dataframe tbody tr th:only-of-type {\n",
       "        vertical-align: middle;\n",
       "    }\n",
       "\n",
       "    .dataframe tbody tr th {\n",
       "        vertical-align: top;\n",
       "    }\n",
       "\n",
       "    .dataframe thead th {\n",
       "        text-align: right;\n",
       "    }\n",
       "</style>\n",
       "<table border=\"1\" class=\"dataframe\">\n",
       "  <thead>\n",
       "    <tr style=\"text-align: right;\">\n",
       "      <th></th>\n",
       "      <th>0</th>\n",
       "    </tr>\n",
       "  </thead>\n",
       "  <tbody>\n",
       "    <tr>\n",
       "      <th>name</th>\n",
       "      <td>Oslo University Hospital</td>\n",
       "    </tr>\n",
       "    <tr>\n",
       "      <th>major_location</th>\n",
       "      <td>Oslo</td>\n",
       "    </tr>\n",
       "    <tr>\n",
       "      <th>established</th>\n",
       "      <td>2009</td>\n",
       "    </tr>\n",
       "    <tr>\n",
       "      <th>main_campus</th>\n",
       "      <td>Aker, Riks, Ullevål</td>\n",
       "    </tr>\n",
       "    <tr>\n",
       "      <th>description</th>\n",
       "      <td>With over 24,000 employees it is the largest h...</td>\n",
       "    </tr>\n",
       "  </tbody>\n",
       "</table>\n",
       "</div>"
      ],
      "text/plain": [
       "                                                                0\n",
       "name                                     Oslo University Hospital\n",
       "major_location                                               Oslo\n",
       "established                                                  2009\n",
       "main_campus                                   Aker, Riks, Ullevål\n",
       "description     With over 24,000 employees it is the largest h..."
      ]
     },
     "execution_count": 30,
     "metadata": {},
     "output_type": "execute_result"
    }
   ],
   "source": [
    "df1 = pd.DataFrame(hs1)\n",
    "df1"
   ]
  },
  {
   "cell_type": "code",
   "execution_count": 31,
   "id": "cc5aae6d",
   "metadata": {},
   "outputs": [
    {
     "data": {
      "text/html": [
       "<div>\n",
       "<style scoped>\n",
       "    .dataframe tbody tr th:only-of-type {\n",
       "        vertical-align: middle;\n",
       "    }\n",
       "\n",
       "    .dataframe tbody tr th {\n",
       "        vertical-align: top;\n",
       "    }\n",
       "\n",
       "    .dataframe thead th {\n",
       "        text-align: right;\n",
       "    }\n",
       "</style>\n",
       "<table border=\"1\" class=\"dataframe\">\n",
       "  <thead>\n",
       "    <tr style=\"text-align: right;\">\n",
       "      <th></th>\n",
       "      <th>0</th>\n",
       "    </tr>\n",
       "  </thead>\n",
       "  <tbody>\n",
       "    <tr>\n",
       "      <th>name</th>\n",
       "      <td>Møre og Romsdal Hospital Trust</td>\n",
       "    </tr>\n",
       "    <tr>\n",
       "      <th>major_location</th>\n",
       "      <td>Ålesund</td>\n",
       "    </tr>\n",
       "    <tr>\n",
       "      <th>established</th>\n",
       "      <td>2011</td>\n",
       "    </tr>\n",
       "    <tr>\n",
       "      <th>main_campus</th>\n",
       "      <td>Kristiansund,Molde,Ålesund,Volda</td>\n",
       "    </tr>\n",
       "    <tr>\n",
       "      <th>description</th>\n",
       "      <td>The trust is owned by Central Norway Regional ...</td>\n",
       "    </tr>\n",
       "  </tbody>\n",
       "</table>\n",
       "</div>"
      ],
      "text/plain": [
       "                                                                0\n",
       "name                               Møre og Romsdal Hospital Trust\n",
       "major_location                                            Ålesund\n",
       "established                                                  2011\n",
       "main_campus                      Kristiansund,Molde,Ålesund,Volda\n",
       "description     The trust is owned by Central Norway Regional ..."
      ]
     },
     "execution_count": 31,
     "metadata": {},
     "output_type": "execute_result"
    }
   ],
   "source": [
    "df2 = pd.DataFrame(hs2)\n",
    "df2"
   ]
  },
  {
   "cell_type": "code",
   "execution_count": 32,
   "id": "cc05e966",
   "metadata": {},
   "outputs": [
    {
     "data": {
      "text/html": [
       "<div>\n",
       "<style scoped>\n",
       "    .dataframe tbody tr th:only-of-type {\n",
       "        vertical-align: middle;\n",
       "    }\n",
       "\n",
       "    .dataframe tbody tr th {\n",
       "        vertical-align: top;\n",
       "    }\n",
       "\n",
       "    .dataframe thead th {\n",
       "        text-align: right;\n",
       "    }\n",
       "</style>\n",
       "<table border=\"1\" class=\"dataframe\">\n",
       "  <thead>\n",
       "    <tr style=\"text-align: right;\">\n",
       "      <th></th>\n",
       "      <th>0</th>\n",
       "    </tr>\n",
       "  </thead>\n",
       "  <tbody>\n",
       "    <tr>\n",
       "      <th>name</th>\n",
       "      <td>Nord-Trøndelag Health Trust</td>\n",
       "    </tr>\n",
       "    <tr>\n",
       "      <th>major_location</th>\n",
       "      <td>Nord-Trøndelag</td>\n",
       "    </tr>\n",
       "    <tr>\n",
       "      <th>established</th>\n",
       "      <td>2012</td>\n",
       "    </tr>\n",
       "    <tr>\n",
       "      <th>main_campus</th>\n",
       "      <td>Levanger, Namsos</td>\n",
       "    </tr>\n",
       "    <tr>\n",
       "      <th>description</th>\n",
       "      <td>The trust has about 2,500 employees and has ab...</td>\n",
       "    </tr>\n",
       "  </tbody>\n",
       "</table>\n",
       "</div>"
      ],
      "text/plain": [
       "                                                                0\n",
       "name                                  Nord-Trøndelag Health Trust\n",
       "major_location                                     Nord-Trøndelag\n",
       "established                                                  2012\n",
       "main_campus                                      Levanger, Namsos\n",
       "description     The trust has about 2,500 employees and has ab..."
      ]
     },
     "execution_count": 32,
     "metadata": {},
     "output_type": "execute_result"
    }
   ],
   "source": [
    "df3 = pd.DataFrame(hs3)\n",
    "df3"
   ]
  },
  {
   "cell_type": "code",
   "execution_count": 33,
   "id": "ad2a3f64",
   "metadata": {},
   "outputs": [
    {
     "data": {
      "text/html": [
       "<div>\n",
       "<style scoped>\n",
       "    .dataframe tbody tr th:only-of-type {\n",
       "        vertical-align: middle;\n",
       "    }\n",
       "\n",
       "    .dataframe tbody tr th {\n",
       "        vertical-align: top;\n",
       "    }\n",
       "\n",
       "    .dataframe thead th {\n",
       "        text-align: right;\n",
       "    }\n",
       "</style>\n",
       "<table border=\"1\" class=\"dataframe\">\n",
       "  <thead>\n",
       "    <tr style=\"text-align: right;\">\n",
       "      <th></th>\n",
       "      <th>0</th>\n",
       "    </tr>\n",
       "  </thead>\n",
       "  <tbody>\n",
       "    <tr>\n",
       "      <th>name</th>\n",
       "      <td>St.Olavs University Hospital</td>\n",
       "    </tr>\n",
       "    <tr>\n",
       "      <th>major_location</th>\n",
       "      <td>Trondheim</td>\n",
       "    </tr>\n",
       "    <tr>\n",
       "      <th>established</th>\n",
       "      <td>1902</td>\n",
       "    </tr>\n",
       "    <tr>\n",
       "      <th>main_campus</th>\n",
       "      <td>Øya</td>\n",
       "    </tr>\n",
       "    <tr>\n",
       "      <th>description</th>\n",
       "      <td>It performed 274,441 somatic and 88,692 psychi...</td>\n",
       "    </tr>\n",
       "  </tbody>\n",
       "</table>\n",
       "</div>"
      ],
      "text/plain": [
       "                                                                0\n",
       "name                                 St.Olavs University Hospital\n",
       "major_location                                          Trondheim\n",
       "established                                                  1902\n",
       "main_campus                                                   Øya\n",
       "description     It performed 274,441 somatic and 88,692 psychi..."
      ]
     },
     "execution_count": 33,
     "metadata": {},
     "output_type": "execute_result"
    }
   ],
   "source": [
    "df4 = pd.DataFrame(hs4)\n",
    "df4"
   ]
  },
  {
   "cell_type": "code",
   "execution_count": 34,
   "id": "7b88222f",
   "metadata": {},
   "outputs": [
    {
     "data": {
      "text/html": [
       "<div>\n",
       "<style scoped>\n",
       "    .dataframe tbody tr th:only-of-type {\n",
       "        vertical-align: middle;\n",
       "    }\n",
       "\n",
       "    .dataframe tbody tr th {\n",
       "        vertical-align: top;\n",
       "    }\n",
       "\n",
       "    .dataframe thead th {\n",
       "        text-align: right;\n",
       "    }\n",
       "</style>\n",
       "<table border=\"1\" class=\"dataframe\">\n",
       "  <thead>\n",
       "    <tr style=\"text-align: right;\">\n",
       "      <th></th>\n",
       "      <th>0</th>\n",
       "    </tr>\n",
       "  </thead>\n",
       "  <tbody>\n",
       "    <tr>\n",
       "      <th>name</th>\n",
       "      <td>Finnmark Hospital Trust</td>\n",
       "    </tr>\n",
       "    <tr>\n",
       "      <th>major_location</th>\n",
       "      <td>Finnmark</td>\n",
       "    </tr>\n",
       "    <tr>\n",
       "      <th>established</th>\n",
       "      <td>2005</td>\n",
       "    </tr>\n",
       "    <tr>\n",
       "      <th>main_campus</th>\n",
       "      <td>Hammerfest, Kirkenes</td>\n",
       "    </tr>\n",
       "    <tr>\n",
       "      <th>description</th>\n",
       "      <td>The trust is part of Northern Norway Regional ...</td>\n",
       "    </tr>\n",
       "  </tbody>\n",
       "</table>\n",
       "</div>"
      ],
      "text/plain": [
       "                                                                0\n",
       "name                                      Finnmark Hospital Trust\n",
       "major_location                                           Finnmark\n",
       "established                                                  2005\n",
       "main_campus                                  Hammerfest, Kirkenes\n",
       "description     The trust is part of Northern Norway Regional ..."
      ]
     },
     "execution_count": 34,
     "metadata": {},
     "output_type": "execute_result"
    }
   ],
   "source": [
    "df5 = pd.DataFrame(hs5)\n",
    "df5"
   ]
  },
  {
   "cell_type": "code",
   "execution_count": 35,
   "id": "1b162270",
   "metadata": {},
   "outputs": [
    {
     "data": {
      "text/html": [
       "<div>\n",
       "<style scoped>\n",
       "    .dataframe tbody tr th:only-of-type {\n",
       "        vertical-align: middle;\n",
       "    }\n",
       "\n",
       "    .dataframe tbody tr th {\n",
       "        vertical-align: top;\n",
       "    }\n",
       "\n",
       "    .dataframe thead th {\n",
       "        text-align: right;\n",
       "    }\n",
       "</style>\n",
       "<table border=\"1\" class=\"dataframe\">\n",
       "  <thead>\n",
       "    <tr style=\"text-align: right;\">\n",
       "      <th></th>\n",
       "      <th>0</th>\n",
       "    </tr>\n",
       "  </thead>\n",
       "  <tbody>\n",
       "    <tr>\n",
       "      <th>name</th>\n",
       "      <td>Helgeland Hospital Trust</td>\n",
       "    </tr>\n",
       "    <tr>\n",
       "      <th>major_location</th>\n",
       "      <td>Helgeland</td>\n",
       "    </tr>\n",
       "    <tr>\n",
       "      <th>established</th>\n",
       "      <td>2002</td>\n",
       "    </tr>\n",
       "    <tr>\n",
       "      <th>main_campus</th>\n",
       "      <td>Mo i Rana, Mosjøen, Sandnessjøen</td>\n",
       "    </tr>\n",
       "    <tr>\n",
       "      <th>description</th>\n",
       "      <td>It has a polyclinic in Brønnøysund</td>\n",
       "    </tr>\n",
       "  </tbody>\n",
       "</table>\n",
       "</div>"
      ],
      "text/plain": [
       "                                                 0\n",
       "name                      Helgeland Hospital Trust\n",
       "major_location                           Helgeland\n",
       "established                                   2002\n",
       "main_campus       Mo i Rana, Mosjøen, Sandnessjøen\n",
       "description     It has a polyclinic in Brønnøysund"
      ]
     },
     "execution_count": 35,
     "metadata": {},
     "output_type": "execute_result"
    }
   ],
   "source": [
    "df6 = pd.DataFrame(hs6)\n",
    "df6"
   ]
  },
  {
   "cell_type": "code",
   "execution_count": 36,
   "id": "03da4525",
   "metadata": {},
   "outputs": [
    {
     "data": {
      "text/html": [
       "<div>\n",
       "<style scoped>\n",
       "    .dataframe tbody tr th:only-of-type {\n",
       "        vertical-align: middle;\n",
       "    }\n",
       "\n",
       "    .dataframe tbody tr th {\n",
       "        vertical-align: top;\n",
       "    }\n",
       "\n",
       "    .dataframe thead th {\n",
       "        text-align: right;\n",
       "    }\n",
       "</style>\n",
       "<table border=\"1\" class=\"dataframe\">\n",
       "  <thead>\n",
       "    <tr style=\"text-align: right;\">\n",
       "      <th></th>\n",
       "      <th>0</th>\n",
       "    </tr>\n",
       "  </thead>\n",
       "  <tbody>\n",
       "    <tr>\n",
       "      <th>name</th>\n",
       "      <td>Nordland Hospital Trust</td>\n",
       "    </tr>\n",
       "    <tr>\n",
       "      <th>major_location</th>\n",
       "      <td>Nordland</td>\n",
       "    </tr>\n",
       "    <tr>\n",
       "      <th>established</th>\n",
       "      <td>2002</td>\n",
       "    </tr>\n",
       "    <tr>\n",
       "      <th>main_campus</th>\n",
       "      <td>Bodø,Rønvik,Lofoten,Vesterålen</td>\n",
       "    </tr>\n",
       "    <tr>\n",
       "      <th>description</th>\n",
       "      <td>Manages several minor psychiatric treatment fa...</td>\n",
       "    </tr>\n",
       "  </tbody>\n",
       "</table>\n",
       "</div>"
      ],
      "text/plain": [
       "                                                                0\n",
       "name                                      Nordland Hospital Trust\n",
       "major_location                                           Nordland\n",
       "established                                                  2002\n",
       "main_campus                        Bodø,Rønvik,Lofoten,Vesterålen\n",
       "description     Manages several minor psychiatric treatment fa..."
      ]
     },
     "execution_count": 36,
     "metadata": {},
     "output_type": "execute_result"
    }
   ],
   "source": [
    "df7 = pd.DataFrame(hs7)\n",
    "df7"
   ]
  },
  {
   "cell_type": "code",
   "execution_count": 37,
   "id": "af0724f9",
   "metadata": {},
   "outputs": [
    {
     "data": {
      "text/html": [
       "<div>\n",
       "<style scoped>\n",
       "    .dataframe tbody tr th:only-of-type {\n",
       "        vertical-align: middle;\n",
       "    }\n",
       "\n",
       "    .dataframe tbody tr th {\n",
       "        vertical-align: top;\n",
       "    }\n",
       "\n",
       "    .dataframe thead th {\n",
       "        text-align: right;\n",
       "    }\n",
       "</style>\n",
       "<table border=\"1\" class=\"dataframe\">\n",
       "  <thead>\n",
       "    <tr style=\"text-align: right;\">\n",
       "      <th></th>\n",
       "      <th>0</th>\n",
       "    </tr>\n",
       "  </thead>\n",
       "  <tbody>\n",
       "    <tr>\n",
       "      <th>name</th>\n",
       "      <td>Akershus University Hospital</td>\n",
       "    </tr>\n",
       "    <tr>\n",
       "      <th>major_location</th>\n",
       "      <td>Greater Oslo</td>\n",
       "    </tr>\n",
       "    <tr>\n",
       "      <th>established</th>\n",
       "      <td>1961</td>\n",
       "    </tr>\n",
       "    <tr>\n",
       "      <th>main_campus</th>\n",
       "      <td>Lørenskog</td>\n",
       "    </tr>\n",
       "    <tr>\n",
       "      <th>description</th>\n",
       "      <td>Since 2002, the university hospital has figure...</td>\n",
       "    </tr>\n",
       "  </tbody>\n",
       "</table>\n",
       "</div>"
      ],
      "text/plain": [
       "                                                                0\n",
       "name                                 Akershus University Hospital\n",
       "major_location                                       Greater Oslo\n",
       "established                                                  1961\n",
       "main_campus                                             Lørenskog\n",
       "description     Since 2002, the university hospital has figure..."
      ]
     },
     "execution_count": 37,
     "metadata": {},
     "output_type": "execute_result"
    }
   ],
   "source": [
    "df8 = pd.DataFrame(hs8)\n",
    "df8"
   ]
  },
  {
   "cell_type": "code",
   "execution_count": 38,
   "id": "f0ce73e3",
   "metadata": {},
   "outputs": [
    {
     "data": {
      "text/html": [
       "<div>\n",
       "<style scoped>\n",
       "    .dataframe tbody tr th:only-of-type {\n",
       "        vertical-align: middle;\n",
       "    }\n",
       "\n",
       "    .dataframe tbody tr th {\n",
       "        vertical-align: top;\n",
       "    }\n",
       "\n",
       "    .dataframe thead th {\n",
       "        text-align: right;\n",
       "    }\n",
       "</style>\n",
       "<table border=\"1\" class=\"dataframe\">\n",
       "  <thead>\n",
       "    <tr style=\"text-align: right;\">\n",
       "      <th></th>\n",
       "      <th>0</th>\n",
       "    </tr>\n",
       "  </thead>\n",
       "  <tbody>\n",
       "    <tr>\n",
       "      <th>name</th>\n",
       "      <td>Innlandet Hospital Trust</td>\n",
       "    </tr>\n",
       "    <tr>\n",
       "      <th>major_location</th>\n",
       "      <td>Hedmark,Oppland</td>\n",
       "    </tr>\n",
       "    <tr>\n",
       "      <th>established</th>\n",
       "      <td>2001</td>\n",
       "    </tr>\n",
       "    <tr>\n",
       "      <th>main_campus</th>\n",
       "      <td>Elverum-Hamar,Gjøvik,Lillehammer,Kongsvinger,T...</td>\n",
       "    </tr>\n",
       "    <tr>\n",
       "      <th>description</th>\n",
       "      <td>It is owned by Southern and Eastern Norway Reg...</td>\n",
       "    </tr>\n",
       "  </tbody>\n",
       "</table>\n",
       "</div>"
      ],
      "text/plain": [
       "                                                                0\n",
       "name                                     Innlandet Hospital Trust\n",
       "major_location                                    Hedmark,Oppland\n",
       "established                                                  2001\n",
       "main_campus     Elverum-Hamar,Gjøvik,Lillehammer,Kongsvinger,T...\n",
       "description     It is owned by Southern and Eastern Norway Reg..."
      ]
     },
     "execution_count": 38,
     "metadata": {},
     "output_type": "execute_result"
    }
   ],
   "source": [
    "df9 = pd.DataFrame(hs9)\n",
    "df9"
   ]
  },
  {
   "cell_type": "code",
   "execution_count": 39,
   "id": "217a4f19",
   "metadata": {},
   "outputs": [
    {
     "data": {
      "text/html": [
       "<div>\n",
       "<style scoped>\n",
       "    .dataframe tbody tr th:only-of-type {\n",
       "        vertical-align: middle;\n",
       "    }\n",
       "\n",
       "    .dataframe tbody tr th {\n",
       "        vertical-align: top;\n",
       "    }\n",
       "\n",
       "    .dataframe thead th {\n",
       "        text-align: right;\n",
       "    }\n",
       "</style>\n",
       "<table border=\"1\" class=\"dataframe\">\n",
       "  <thead>\n",
       "    <tr style=\"text-align: right;\">\n",
       "      <th></th>\n",
       "      <th>0</th>\n",
       "    </tr>\n",
       "  </thead>\n",
       "  <tbody>\n",
       "    <tr>\n",
       "      <th>name</th>\n",
       "      <td>Vestre Viken Hospital Trust</td>\n",
       "    </tr>\n",
       "    <tr>\n",
       "      <th>major_location</th>\n",
       "      <td>Drammen</td>\n",
       "    </tr>\n",
       "    <tr>\n",
       "      <th>established</th>\n",
       "      <td>1878</td>\n",
       "    </tr>\n",
       "    <tr>\n",
       "      <th>main_campus</th>\n",
       "      <td>Kongsberg, Ringerike, Bærum, Drammen</td>\n",
       "    </tr>\n",
       "    <tr>\n",
       "      <th>description</th>\n",
       "      <td>It covers an area with 470,000 residents in 26...</td>\n",
       "    </tr>\n",
       "  </tbody>\n",
       "</table>\n",
       "</div>"
      ],
      "text/plain": [
       "                                                                0\n",
       "name                                  Vestre Viken Hospital Trust\n",
       "major_location                                            Drammen\n",
       "established                                                  1878\n",
       "main_campus                  Kongsberg, Ringerike, Bærum, Drammen\n",
       "description     It covers an area with 470,000 residents in 26..."
      ]
     },
     "execution_count": 39,
     "metadata": {},
     "output_type": "execute_result"
    }
   ],
   "source": [
    "df10 = pd.DataFrame(hs10)\n",
    "df10"
   ]
  },
  {
   "cell_type": "code",
   "execution_count": 41,
   "id": "1592deca",
   "metadata": {},
   "outputs": [
    {
     "data": {
      "text/html": [
       "<div>\n",
       "<style scoped>\n",
       "    .dataframe tbody tr th:only-of-type {\n",
       "        vertical-align: middle;\n",
       "    }\n",
       "\n",
       "    .dataframe tbody tr th {\n",
       "        vertical-align: top;\n",
       "    }\n",
       "\n",
       "    .dataframe thead th {\n",
       "        text-align: right;\n",
       "    }\n",
       "</style>\n",
       "<table border=\"1\" class=\"dataframe\">\n",
       "  <thead>\n",
       "    <tr style=\"text-align: right;\">\n",
       "      <th></th>\n",
       "      <th>0</th>\n",
       "    </tr>\n",
       "  </thead>\n",
       "  <tbody>\n",
       "    <tr>\n",
       "      <th>name</th>\n",
       "      <td>Telemark Hospital Trust</td>\n",
       "    </tr>\n",
       "    <tr>\n",
       "      <th>major_location</th>\n",
       "      <td>Skien</td>\n",
       "    </tr>\n",
       "    <tr>\n",
       "      <th>established</th>\n",
       "      <td>1988</td>\n",
       "    </tr>\n",
       "    <tr>\n",
       "      <th>main_campus</th>\n",
       "      <td>Skien</td>\n",
       "    </tr>\n",
       "    <tr>\n",
       "      <th>description</th>\n",
       "      <td>The total employees in 2003 were 2750, of whic...</td>\n",
       "    </tr>\n",
       "  </tbody>\n",
       "</table>\n",
       "</div>"
      ],
      "text/plain": [
       "                                                                0\n",
       "name                                      Telemark Hospital Trust\n",
       "major_location                                              Skien\n",
       "established                                                  1988\n",
       "main_campus                                                 Skien\n",
       "description     The total employees in 2003 were 2750, of whic..."
      ]
     },
     "execution_count": 41,
     "metadata": {},
     "output_type": "execute_result"
    }
   ],
   "source": [
    "df11 = pd.DataFrame(hs11)\n",
    "df11"
   ]
  },
  {
   "cell_type": "code",
   "execution_count": 42,
   "id": "3a05065d",
   "metadata": {},
   "outputs": [
    {
     "data": {
      "text/html": [
       "<div>\n",
       "<style scoped>\n",
       "    .dataframe tbody tr th:only-of-type {\n",
       "        vertical-align: middle;\n",
       "    }\n",
       "\n",
       "    .dataframe tbody tr th {\n",
       "        vertical-align: top;\n",
       "    }\n",
       "\n",
       "    .dataframe thead th {\n",
       "        text-align: right;\n",
       "    }\n",
       "</style>\n",
       "<table border=\"1\" class=\"dataframe\">\n",
       "  <thead>\n",
       "    <tr style=\"text-align: right;\">\n",
       "      <th></th>\n",
       "      <th>0</th>\n",
       "    </tr>\n",
       "  </thead>\n",
       "  <tbody>\n",
       "    <tr>\n",
       "      <th>name</th>\n",
       "      <td>Vestfold Hospital Trust</td>\n",
       "    </tr>\n",
       "    <tr>\n",
       "      <th>major_location</th>\n",
       "      <td>Vestfold</td>\n",
       "    </tr>\n",
       "    <tr>\n",
       "      <th>established</th>\n",
       "      <td>1870</td>\n",
       "    </tr>\n",
       "    <tr>\n",
       "      <th>main_campus</th>\n",
       "      <td>Tønsberg</td>\n",
       "    </tr>\n",
       "    <tr>\n",
       "      <th>description</th>\n",
       "      <td>It is owned by the Norwegian state through Sou...</td>\n",
       "    </tr>\n",
       "  </tbody>\n",
       "</table>\n",
       "</div>"
      ],
      "text/plain": [
       "                                                                0\n",
       "name                                      Vestfold Hospital Trust\n",
       "major_location                                           Vestfold\n",
       "established                                                  1870\n",
       "main_campus                                              Tønsberg\n",
       "description     It is owned by the Norwegian state through Sou..."
      ]
     },
     "execution_count": 42,
     "metadata": {},
     "output_type": "execute_result"
    }
   ],
   "source": [
    "df12 = pd.DataFrame(hs12)\n",
    "df12"
   ]
  },
  {
   "cell_type": "code",
   "execution_count": 43,
   "id": "368efcd3",
   "metadata": {},
   "outputs": [
    {
     "data": {
      "text/html": [
       "<div>\n",
       "<style scoped>\n",
       "    .dataframe tbody tr th:only-of-type {\n",
       "        vertical-align: middle;\n",
       "    }\n",
       "\n",
       "    .dataframe tbody tr th {\n",
       "        vertical-align: top;\n",
       "    }\n",
       "\n",
       "    .dataframe thead th {\n",
       "        text-align: right;\n",
       "    }\n",
       "</style>\n",
       "<table border=\"1\" class=\"dataframe\">\n",
       "  <thead>\n",
       "    <tr style=\"text-align: right;\">\n",
       "      <th></th>\n",
       "      <th>0</th>\n",
       "    </tr>\n",
       "  </thead>\n",
       "  <tbody>\n",
       "    <tr>\n",
       "      <th>name</th>\n",
       "      <td>Hospital of Southern Norway</td>\n",
       "    </tr>\n",
       "    <tr>\n",
       "      <th>major_location</th>\n",
       "      <td>Agder</td>\n",
       "    </tr>\n",
       "    <tr>\n",
       "      <th>established</th>\n",
       "      <td>2003</td>\n",
       "    </tr>\n",
       "    <tr>\n",
       "      <th>main_campus</th>\n",
       "      <td>Arendal,Flekkefjord,Kristiansand</td>\n",
       "    </tr>\n",
       "    <tr>\n",
       "      <th>description</th>\n",
       "      <td>There are also smaller centres at Risør, Grims...</td>\n",
       "    </tr>\n",
       "  </tbody>\n",
       "</table>\n",
       "</div>"
      ],
      "text/plain": [
       "                                                                0\n",
       "name                                  Hospital of Southern Norway\n",
       "major_location                                              Agder\n",
       "established                                                  2003\n",
       "main_campus                      Arendal,Flekkefjord,Kristiansand\n",
       "description     There are also smaller centres at Risør, Grims..."
      ]
     },
     "execution_count": 43,
     "metadata": {},
     "output_type": "execute_result"
    }
   ],
   "source": [
    "df13 = pd.DataFrame(hs13)\n",
    "df13"
   ]
  },
  {
   "cell_type": "code",
   "execution_count": 44,
   "id": "6157bc6e",
   "metadata": {},
   "outputs": [
    {
     "data": {
      "text/html": [
       "<div>\n",
       "<style scoped>\n",
       "    .dataframe tbody tr th:only-of-type {\n",
       "        vertical-align: middle;\n",
       "    }\n",
       "\n",
       "    .dataframe tbody tr th {\n",
       "        vertical-align: top;\n",
       "    }\n",
       "\n",
       "    .dataframe thead th {\n",
       "        text-align: right;\n",
       "    }\n",
       "</style>\n",
       "<table border=\"1\" class=\"dataframe\">\n",
       "  <thead>\n",
       "    <tr style=\"text-align: right;\">\n",
       "      <th></th>\n",
       "      <th>0</th>\n",
       "    </tr>\n",
       "  </thead>\n",
       "  <tbody>\n",
       "    <tr>\n",
       "      <th>name</th>\n",
       "      <td>Fonna Hospital Trust</td>\n",
       "    </tr>\n",
       "    <tr>\n",
       "      <th>major_location</th>\n",
       "      <td>Haugesund</td>\n",
       "    </tr>\n",
       "    <tr>\n",
       "      <th>established</th>\n",
       "      <td>2002</td>\n",
       "    </tr>\n",
       "    <tr>\n",
       "      <th>main_campus</th>\n",
       "      <td>Haugaland,Sunnhordland,Hardanger</td>\n",
       "    </tr>\n",
       "    <tr>\n",
       "      <th>description</th>\n",
       "      <td>Fonna Health Trust is one of five local health...</td>\n",
       "    </tr>\n",
       "  </tbody>\n",
       "</table>\n",
       "</div>"
      ],
      "text/plain": [
       "                                                                0\n",
       "name                                         Fonna Hospital Trust\n",
       "major_location                                          Haugesund\n",
       "established                                                  2002\n",
       "main_campus                      Haugaland,Sunnhordland,Hardanger\n",
       "description     Fonna Health Trust is one of five local health..."
      ]
     },
     "execution_count": 44,
     "metadata": {},
     "output_type": "execute_result"
    }
   ],
   "source": [
    "df14 = pd.DataFrame(hs14)\n",
    "df14"
   ]
  },
  {
   "cell_type": "code",
   "execution_count": 45,
   "id": "89f5058b",
   "metadata": {},
   "outputs": [
    {
     "data": {
      "text/html": [
       "<div>\n",
       "<style scoped>\n",
       "    .dataframe tbody tr th:only-of-type {\n",
       "        vertical-align: middle;\n",
       "    }\n",
       "\n",
       "    .dataframe tbody tr th {\n",
       "        vertical-align: top;\n",
       "    }\n",
       "\n",
       "    .dataframe thead th {\n",
       "        text-align: right;\n",
       "    }\n",
       "</style>\n",
       "<table border=\"1\" class=\"dataframe\">\n",
       "  <thead>\n",
       "    <tr style=\"text-align: right;\">\n",
       "      <th></th>\n",
       "      <th>0</th>\n",
       "    </tr>\n",
       "  </thead>\n",
       "  <tbody>\n",
       "    <tr>\n",
       "      <th>name</th>\n",
       "      <td>Førde Hospital Trust</td>\n",
       "    </tr>\n",
       "    <tr>\n",
       "      <th>major_location</th>\n",
       "      <td>Sogn og Fjordane</td>\n",
       "    </tr>\n",
       "    <tr>\n",
       "      <th>established</th>\n",
       "      <td>2002</td>\n",
       "    </tr>\n",
       "    <tr>\n",
       "      <th>main_campus</th>\n",
       "      <td>Nordfjord,Sunnfjord,Sogn</td>\n",
       "    </tr>\n",
       "    <tr>\n",
       "      <th>description</th>\n",
       "      <td>There are six clinics and one division, divide...</td>\n",
       "    </tr>\n",
       "  </tbody>\n",
       "</table>\n",
       "</div>"
      ],
      "text/plain": [
       "                                                                0\n",
       "name                                         Førde Hospital Trust\n",
       "major_location                                   Sogn og Fjordane\n",
       "established                                                  2002\n",
       "main_campus                              Nordfjord,Sunnfjord,Sogn\n",
       "description     There are six clinics and one division, divide..."
      ]
     },
     "execution_count": 45,
     "metadata": {},
     "output_type": "execute_result"
    }
   ],
   "source": [
    "df15 = pd.DataFrame(hs15)\n",
    "df15"
   ]
  },
  {
   "cell_type": "code",
   "execution_count": 46,
   "id": "c19e239f",
   "metadata": {},
   "outputs": [
    {
     "data": {
      "text/html": [
       "<div>\n",
       "<style scoped>\n",
       "    .dataframe tbody tr th:only-of-type {\n",
       "        vertical-align: middle;\n",
       "    }\n",
       "\n",
       "    .dataframe tbody tr th {\n",
       "        vertical-align: top;\n",
       "    }\n",
       "\n",
       "    .dataframe thead th {\n",
       "        text-align: right;\n",
       "    }\n",
       "</style>\n",
       "<table border=\"1\" class=\"dataframe\">\n",
       "  <thead>\n",
       "    <tr style=\"text-align: right;\">\n",
       "      <th></th>\n",
       "      <th>0</th>\n",
       "    </tr>\n",
       "  </thead>\n",
       "  <tbody>\n",
       "    <tr>\n",
       "      <th>name</th>\n",
       "      <td>Bergen Hospital Trust</td>\n",
       "    </tr>\n",
       "    <tr>\n",
       "      <th>major_location</th>\n",
       "      <td>Bergen</td>\n",
       "    </tr>\n",
       "    <tr>\n",
       "      <th>established</th>\n",
       "      <td>2002</td>\n",
       "    </tr>\n",
       "    <tr>\n",
       "      <th>main_campus</th>\n",
       "      <td>Hordaland</td>\n",
       "    </tr>\n",
       "    <tr>\n",
       "      <th>description</th>\n",
       "      <td>One of the five health trusts owned by the Wes...</td>\n",
       "    </tr>\n",
       "  </tbody>\n",
       "</table>\n",
       "</div>"
      ],
      "text/plain": [
       "                                                                0\n",
       "name                                        Bergen Hospital Trust\n",
       "major_location                                             Bergen\n",
       "established                                                  2002\n",
       "main_campus                                             Hordaland\n",
       "description     One of the five health trusts owned by the Wes..."
      ]
     },
     "execution_count": 46,
     "metadata": {},
     "output_type": "execute_result"
    }
   ],
   "source": [
    "df16 = pd.DataFrame(hs16)\n",
    "df16"
   ]
  },
  {
   "cell_type": "markdown",
   "id": "3e9102ec",
   "metadata": {},
   "source": [
    "#Concatenate all data frames into one"
   ]
  },
  {
   "cell_type": "code",
   "execution_count": 47,
   "id": "9aacef15",
   "metadata": {},
   "outputs": [
    {
     "data": {
      "text/html": [
       "<div>\n",
       "<style scoped>\n",
       "    .dataframe tbody tr th:only-of-type {\n",
       "        vertical-align: middle;\n",
       "    }\n",
       "\n",
       "    .dataframe tbody tr th {\n",
       "        vertical-align: top;\n",
       "    }\n",
       "\n",
       "    .dataframe thead th {\n",
       "        text-align: right;\n",
       "    }\n",
       "</style>\n",
       "<table border=\"1\" class=\"dataframe\">\n",
       "  <thead>\n",
       "    <tr style=\"text-align: right;\">\n",
       "      <th></th>\n",
       "      <th>name</th>\n",
       "      <th>major_location</th>\n",
       "      <th>established</th>\n",
       "      <th>main_campus</th>\n",
       "      <th>description</th>\n",
       "    </tr>\n",
       "  </thead>\n",
       "  <tbody>\n",
       "    <tr>\n",
       "      <th>0</th>\n",
       "      <td>Oslo University Hospital</td>\n",
       "      <td>Oslo</td>\n",
       "      <td>2009</td>\n",
       "      <td>Aker, Riks, Ullevål</td>\n",
       "      <td>With over 24,000 employees it is the largest h...</td>\n",
       "    </tr>\n",
       "    <tr>\n",
       "      <th>0</th>\n",
       "      <td>Møre og Romsdal Hospital Trust</td>\n",
       "      <td>Ålesund</td>\n",
       "      <td>2011</td>\n",
       "      <td>Kristiansund,Molde,Ålesund,Volda</td>\n",
       "      <td>The trust is owned by Central Norway Regional ...</td>\n",
       "    </tr>\n",
       "    <tr>\n",
       "      <th>0</th>\n",
       "      <td>Nord-Trøndelag Health Trust</td>\n",
       "      <td>Nord-Trøndelag</td>\n",
       "      <td>2012</td>\n",
       "      <td>Levanger, Namsos</td>\n",
       "      <td>The trust has about 2,500 employees and has ab...</td>\n",
       "    </tr>\n",
       "    <tr>\n",
       "      <th>0</th>\n",
       "      <td>St.Olavs University Hospital</td>\n",
       "      <td>Trondheim</td>\n",
       "      <td>1902</td>\n",
       "      <td>Øya</td>\n",
       "      <td>It performed 274,441 somatic and 88,692 psychi...</td>\n",
       "    </tr>\n",
       "    <tr>\n",
       "      <th>0</th>\n",
       "      <td>Finnmark Hospital Trust</td>\n",
       "      <td>Finnmark</td>\n",
       "      <td>2005</td>\n",
       "      <td>Hammerfest, Kirkenes</td>\n",
       "      <td>The trust is part of Northern Norway Regional ...</td>\n",
       "    </tr>\n",
       "    <tr>\n",
       "      <th>0</th>\n",
       "      <td>Helgeland Hospital Trust</td>\n",
       "      <td>Helgeland</td>\n",
       "      <td>2002</td>\n",
       "      <td>Mo i Rana, Mosjøen, Sandnessjøen</td>\n",
       "      <td>It has a polyclinic in Brønnøysund</td>\n",
       "    </tr>\n",
       "    <tr>\n",
       "      <th>0</th>\n",
       "      <td>Nordland Hospital Trust</td>\n",
       "      <td>Nordland</td>\n",
       "      <td>2002</td>\n",
       "      <td>Bodø,Rønvik,Lofoten,Vesterålen</td>\n",
       "      <td>Manages several minor psychiatric treatment fa...</td>\n",
       "    </tr>\n",
       "    <tr>\n",
       "      <th>0</th>\n",
       "      <td>Akershus University Hospital</td>\n",
       "      <td>Greater Oslo</td>\n",
       "      <td>1961</td>\n",
       "      <td>Lørenskog</td>\n",
       "      <td>Since 2002, the university hospital has figure...</td>\n",
       "    </tr>\n",
       "    <tr>\n",
       "      <th>0</th>\n",
       "      <td>Innlandet Hospital Trust</td>\n",
       "      <td>Hedmark,Oppland</td>\n",
       "      <td>2001</td>\n",
       "      <td>Elverum-Hamar,Gjøvik,Lillehammer,Kongsvinger,T...</td>\n",
       "      <td>It is owned by Southern and Eastern Norway Reg...</td>\n",
       "    </tr>\n",
       "    <tr>\n",
       "      <th>0</th>\n",
       "      <td>Vestre Viken Hospital Trust</td>\n",
       "      <td>Drammen</td>\n",
       "      <td>1878</td>\n",
       "      <td>Kongsberg, Ringerike, Bærum, Drammen</td>\n",
       "      <td>It covers an area with 470,000 residents in 26...</td>\n",
       "    </tr>\n",
       "    <tr>\n",
       "      <th>0</th>\n",
       "      <td>Telemark Hospital Trust</td>\n",
       "      <td>Skien</td>\n",
       "      <td>1988</td>\n",
       "      <td>Skien</td>\n",
       "      <td>The total employees in 2003 were 2750, of whic...</td>\n",
       "    </tr>\n",
       "    <tr>\n",
       "      <th>0</th>\n",
       "      <td>Vestfold Hospital Trust</td>\n",
       "      <td>Vestfold</td>\n",
       "      <td>1870</td>\n",
       "      <td>Tønsberg</td>\n",
       "      <td>It is owned by the Norwegian state through Sou...</td>\n",
       "    </tr>\n",
       "    <tr>\n",
       "      <th>0</th>\n",
       "      <td>Hospital of Southern Norway</td>\n",
       "      <td>Agder</td>\n",
       "      <td>2003</td>\n",
       "      <td>Arendal,Flekkefjord,Kristiansand</td>\n",
       "      <td>There are also smaller centres at Risør, Grims...</td>\n",
       "    </tr>\n",
       "    <tr>\n",
       "      <th>0</th>\n",
       "      <td>Fonna Hospital Trust</td>\n",
       "      <td>Haugesund</td>\n",
       "      <td>2002</td>\n",
       "      <td>Haugaland,Sunnhordland,Hardanger</td>\n",
       "      <td>Fonna Health Trust is one of five local health...</td>\n",
       "    </tr>\n",
       "    <tr>\n",
       "      <th>0</th>\n",
       "      <td>Førde Hospital Trust</td>\n",
       "      <td>Sogn og Fjordane</td>\n",
       "      <td>2002</td>\n",
       "      <td>Nordfjord,Sunnfjord,Sogn</td>\n",
       "      <td>There are six clinics and one division, divide...</td>\n",
       "    </tr>\n",
       "    <tr>\n",
       "      <th>0</th>\n",
       "      <td>Bergen Hospital Trust</td>\n",
       "      <td>Bergen</td>\n",
       "      <td>2002</td>\n",
       "      <td>Hordaland</td>\n",
       "      <td>One of the five health trusts owned by the Wes...</td>\n",
       "    </tr>\n",
       "  </tbody>\n",
       "</table>\n",
       "</div>"
      ],
      "text/plain": [
       "                             name    major_location established  \\\n",
       "0        Oslo University Hospital              Oslo        2009   \n",
       "0  Møre og Romsdal Hospital Trust           Ålesund        2011   \n",
       "0     Nord-Trøndelag Health Trust    Nord-Trøndelag        2012   \n",
       "0    St.Olavs University Hospital         Trondheim        1902   \n",
       "0         Finnmark Hospital Trust          Finnmark        2005   \n",
       "0        Helgeland Hospital Trust         Helgeland        2002   \n",
       "0         Nordland Hospital Trust          Nordland        2002   \n",
       "0    Akershus University Hospital      Greater Oslo        1961   \n",
       "0        Innlandet Hospital Trust   Hedmark,Oppland        2001   \n",
       "0     Vestre Viken Hospital Trust           Drammen        1878   \n",
       "0         Telemark Hospital Trust             Skien        1988   \n",
       "0         Vestfold Hospital Trust          Vestfold        1870   \n",
       "0     Hospital of Southern Norway             Agder        2003   \n",
       "0            Fonna Hospital Trust         Haugesund        2002   \n",
       "0            Førde Hospital Trust  Sogn og Fjordane        2002   \n",
       "0           Bergen Hospital Trust            Bergen        2002   \n",
       "\n",
       "                                         main_campus  \\\n",
       "0                                Aker, Riks, Ullevål   \n",
       "0                   Kristiansund,Molde,Ålesund,Volda   \n",
       "0                                   Levanger, Namsos   \n",
       "0                                                Øya   \n",
       "0                               Hammerfest, Kirkenes   \n",
       "0                   Mo i Rana, Mosjøen, Sandnessjøen   \n",
       "0                     Bodø,Rønvik,Lofoten,Vesterålen   \n",
       "0                                          Lørenskog   \n",
       "0  Elverum-Hamar,Gjøvik,Lillehammer,Kongsvinger,T...   \n",
       "0               Kongsberg, Ringerike, Bærum, Drammen   \n",
       "0                                              Skien   \n",
       "0                                           Tønsberg   \n",
       "0                   Arendal,Flekkefjord,Kristiansand   \n",
       "0                   Haugaland,Sunnhordland,Hardanger   \n",
       "0                           Nordfjord,Sunnfjord,Sogn   \n",
       "0                                          Hordaland   \n",
       "\n",
       "                                         description  \n",
       "0  With over 24,000 employees it is the largest h...  \n",
       "0  The trust is owned by Central Norway Regional ...  \n",
       "0  The trust has about 2,500 employees and has ab...  \n",
       "0  It performed 274,441 somatic and 88,692 psychi...  \n",
       "0  The trust is part of Northern Norway Regional ...  \n",
       "0                 It has a polyclinic in Brønnøysund  \n",
       "0  Manages several minor psychiatric treatment fa...  \n",
       "0  Since 2002, the university hospital has figure...  \n",
       "0  It is owned by Southern and Eastern Norway Reg...  \n",
       "0  It covers an area with 470,000 residents in 26...  \n",
       "0  The total employees in 2003 were 2750, of whic...  \n",
       "0  It is owned by the Norwegian state through Sou...  \n",
       "0  There are also smaller centres at Risør, Grims...  \n",
       "0  Fonna Health Trust is one of five local health...  \n",
       "0  There are six clinics and one division, divide...  \n",
       "0  One of the five health trusts owned by the Wes...  "
      ]
     },
     "execution_count": 47,
     "metadata": {},
     "output_type": "execute_result"
    }
   ],
   "source": [
    "hospitals = pd.concat([df1,df2,df3,df4,df5,df6,df7,df8,df9,df10,df11,df12,df13,df14,df15,df16],axis=1)\n",
    "\n",
    "#transposing for better visuals\n",
    "Hospitals = hospitals.T\n",
    "Hospitals"
   ]
  },
  {
   "cell_type": "markdown",
   "id": "99a74a69",
   "metadata": {},
   "source": [
    "#Insert new column called 'Regional Health Authority'"
   ]
  },
  {
   "cell_type": "code",
   "execution_count": 48,
   "id": "18a66eb2",
   "metadata": {},
   "outputs": [
    {
     "data": {
      "text/html": [
       "<div>\n",
       "<style scoped>\n",
       "    .dataframe tbody tr th:only-of-type {\n",
       "        vertical-align: middle;\n",
       "    }\n",
       "\n",
       "    .dataframe tbody tr th {\n",
       "        vertical-align: top;\n",
       "    }\n",
       "\n",
       "    .dataframe thead th {\n",
       "        text-align: right;\n",
       "    }\n",
       "</style>\n",
       "<table border=\"1\" class=\"dataframe\">\n",
       "  <thead>\n",
       "    <tr style=\"text-align: right;\">\n",
       "      <th></th>\n",
       "      <th>name</th>\n",
       "      <th>major_location</th>\n",
       "      <th>established</th>\n",
       "      <th>main_campus</th>\n",
       "      <th>Regional Health Authority</th>\n",
       "      <th>description</th>\n",
       "    </tr>\n",
       "  </thead>\n",
       "  <tbody>\n",
       "    <tr>\n",
       "      <th>0</th>\n",
       "      <td>Oslo University Hospital</td>\n",
       "      <td>Oslo</td>\n",
       "      <td>2009</td>\n",
       "      <td>Aker, Riks, Ullevål</td>\n",
       "      <td>Southern and Eastern Norway Regional Health Au...</td>\n",
       "      <td>With over 24,000 employees it is the largest h...</td>\n",
       "    </tr>\n",
       "    <tr>\n",
       "      <th>0</th>\n",
       "      <td>Møre og Romsdal Hospital Trust</td>\n",
       "      <td>Ålesund</td>\n",
       "      <td>2011</td>\n",
       "      <td>Kristiansund,Molde,Ålesund,Volda</td>\n",
       "      <td>Central Norway Regional Health Authority</td>\n",
       "      <td>The trust is owned by Central Norway Regional ...</td>\n",
       "    </tr>\n",
       "    <tr>\n",
       "      <th>0</th>\n",
       "      <td>Nord-Trøndelag Health Trust</td>\n",
       "      <td>Nord-Trøndelag</td>\n",
       "      <td>2012</td>\n",
       "      <td>Levanger, Namsos</td>\n",
       "      <td>Central Norway Regional Health Authority</td>\n",
       "      <td>The trust has about 2,500 employees and has ab...</td>\n",
       "    </tr>\n",
       "    <tr>\n",
       "      <th>0</th>\n",
       "      <td>St.Olavs University Hospital</td>\n",
       "      <td>Trondheim</td>\n",
       "      <td>1902</td>\n",
       "      <td>Øya</td>\n",
       "      <td>Central Norway Regional Health Authority</td>\n",
       "      <td>It performed 274,441 somatic and 88,692 psychi...</td>\n",
       "    </tr>\n",
       "    <tr>\n",
       "      <th>0</th>\n",
       "      <td>Finnmark Hospital Trust</td>\n",
       "      <td>Finnmark</td>\n",
       "      <td>2005</td>\n",
       "      <td>Hammerfest, Kirkenes</td>\n",
       "      <td>Northern Norway Regional Health Authority</td>\n",
       "      <td>The trust is part of Northern Norway Regional ...</td>\n",
       "    </tr>\n",
       "    <tr>\n",
       "      <th>0</th>\n",
       "      <td>Helgeland Hospital Trust</td>\n",
       "      <td>Helgeland</td>\n",
       "      <td>2002</td>\n",
       "      <td>Mo i Rana, Mosjøen, Sandnessjøen</td>\n",
       "      <td>Northern Norway Regional Health Authority</td>\n",
       "      <td>It has a polyclinic in Brønnøysund</td>\n",
       "    </tr>\n",
       "    <tr>\n",
       "      <th>0</th>\n",
       "      <td>Nordland Hospital Trust</td>\n",
       "      <td>Nordland</td>\n",
       "      <td>2002</td>\n",
       "      <td>Bodø,Rønvik,Lofoten,Vesterålen</td>\n",
       "      <td>Northern Norway Regional Health Authority</td>\n",
       "      <td>Manages several minor psychiatric treatment fa...</td>\n",
       "    </tr>\n",
       "    <tr>\n",
       "      <th>0</th>\n",
       "      <td>Akershus University Hospital</td>\n",
       "      <td>Greater Oslo</td>\n",
       "      <td>1961</td>\n",
       "      <td>Lørenskog</td>\n",
       "      <td>Southern and Eastern Norway Regional Health Au...</td>\n",
       "      <td>Since 2002, the university hospital has figure...</td>\n",
       "    </tr>\n",
       "    <tr>\n",
       "      <th>0</th>\n",
       "      <td>Innlandet Hospital Trust</td>\n",
       "      <td>Hedmark,Oppland</td>\n",
       "      <td>2001</td>\n",
       "      <td>Elverum-Hamar,Gjøvik,Lillehammer,Kongsvinger,T...</td>\n",
       "      <td>Southern and Eastern Norway Regional Health Au...</td>\n",
       "      <td>It is owned by Southern and Eastern Norway Reg...</td>\n",
       "    </tr>\n",
       "    <tr>\n",
       "      <th>0</th>\n",
       "      <td>Vestre Viken Hospital Trust</td>\n",
       "      <td>Drammen</td>\n",
       "      <td>1878</td>\n",
       "      <td>Kongsberg, Ringerike, Bærum, Drammen</td>\n",
       "      <td>Southern and Eastern Norway Regional Health Au...</td>\n",
       "      <td>It covers an area with 470,000 residents in 26...</td>\n",
       "    </tr>\n",
       "    <tr>\n",
       "      <th>0</th>\n",
       "      <td>Telemark Hospital Trust</td>\n",
       "      <td>Skien</td>\n",
       "      <td>1988</td>\n",
       "      <td>Skien</td>\n",
       "      <td>Southern and Eastern Norway Regional Health Au...</td>\n",
       "      <td>The total employees in 2003 were 2750, of whic...</td>\n",
       "    </tr>\n",
       "    <tr>\n",
       "      <th>0</th>\n",
       "      <td>Vestfold Hospital Trust</td>\n",
       "      <td>Vestfold</td>\n",
       "      <td>1870</td>\n",
       "      <td>Tønsberg</td>\n",
       "      <td>Southern and Eastern Norway Regional Health Au...</td>\n",
       "      <td>It is owned by the Norwegian state through Sou...</td>\n",
       "    </tr>\n",
       "    <tr>\n",
       "      <th>0</th>\n",
       "      <td>Hospital of Southern Norway</td>\n",
       "      <td>Agder</td>\n",
       "      <td>2003</td>\n",
       "      <td>Arendal,Flekkefjord,Kristiansand</td>\n",
       "      <td>Southern and Eastern Norway Regional Health Au...</td>\n",
       "      <td>There are also smaller centres at Risør, Grims...</td>\n",
       "    </tr>\n",
       "    <tr>\n",
       "      <th>0</th>\n",
       "      <td>Fonna Hospital Trust</td>\n",
       "      <td>Haugesund</td>\n",
       "      <td>2002</td>\n",
       "      <td>Haugaland,Sunnhordland,Hardanger</td>\n",
       "      <td>Western Norway Regional Health Authority</td>\n",
       "      <td>Fonna Health Trust is one of five local health...</td>\n",
       "    </tr>\n",
       "    <tr>\n",
       "      <th>0</th>\n",
       "      <td>Førde Hospital Trust</td>\n",
       "      <td>Sogn og Fjordane</td>\n",
       "      <td>2002</td>\n",
       "      <td>Nordfjord,Sunnfjord,Sogn</td>\n",
       "      <td>Western Norway Regional Health Authority</td>\n",
       "      <td>There are six clinics and one division, divide...</td>\n",
       "    </tr>\n",
       "    <tr>\n",
       "      <th>0</th>\n",
       "      <td>Bergen Hospital Trust</td>\n",
       "      <td>Bergen</td>\n",
       "      <td>2002</td>\n",
       "      <td>Hordaland</td>\n",
       "      <td>Western Norway Regional Health Authority</td>\n",
       "      <td>One of the five health trusts owned by the Wes...</td>\n",
       "    </tr>\n",
       "  </tbody>\n",
       "</table>\n",
       "</div>"
      ],
      "text/plain": [
       "                             name    major_location established  \\\n",
       "0        Oslo University Hospital              Oslo        2009   \n",
       "0  Møre og Romsdal Hospital Trust           Ålesund        2011   \n",
       "0     Nord-Trøndelag Health Trust    Nord-Trøndelag        2012   \n",
       "0    St.Olavs University Hospital         Trondheim        1902   \n",
       "0         Finnmark Hospital Trust          Finnmark        2005   \n",
       "0        Helgeland Hospital Trust         Helgeland        2002   \n",
       "0         Nordland Hospital Trust          Nordland        2002   \n",
       "0    Akershus University Hospital      Greater Oslo        1961   \n",
       "0        Innlandet Hospital Trust   Hedmark,Oppland        2001   \n",
       "0     Vestre Viken Hospital Trust           Drammen        1878   \n",
       "0         Telemark Hospital Trust             Skien        1988   \n",
       "0         Vestfold Hospital Trust          Vestfold        1870   \n",
       "0     Hospital of Southern Norway             Agder        2003   \n",
       "0            Fonna Hospital Trust         Haugesund        2002   \n",
       "0            Førde Hospital Trust  Sogn og Fjordane        2002   \n",
       "0           Bergen Hospital Trust            Bergen        2002   \n",
       "\n",
       "                                         main_campus  \\\n",
       "0                                Aker, Riks, Ullevål   \n",
       "0                   Kristiansund,Molde,Ålesund,Volda   \n",
       "0                                   Levanger, Namsos   \n",
       "0                                                Øya   \n",
       "0                               Hammerfest, Kirkenes   \n",
       "0                   Mo i Rana, Mosjøen, Sandnessjøen   \n",
       "0                     Bodø,Rønvik,Lofoten,Vesterålen   \n",
       "0                                          Lørenskog   \n",
       "0  Elverum-Hamar,Gjøvik,Lillehammer,Kongsvinger,T...   \n",
       "0               Kongsberg, Ringerike, Bærum, Drammen   \n",
       "0                                              Skien   \n",
       "0                                           Tønsberg   \n",
       "0                   Arendal,Flekkefjord,Kristiansand   \n",
       "0                   Haugaland,Sunnhordland,Hardanger   \n",
       "0                           Nordfjord,Sunnfjord,Sogn   \n",
       "0                                          Hordaland   \n",
       "\n",
       "                           Regional Health Authority  \\\n",
       "0  Southern and Eastern Norway Regional Health Au...   \n",
       "0           Central Norway Regional Health Authority   \n",
       "0           Central Norway Regional Health Authority   \n",
       "0           Central Norway Regional Health Authority   \n",
       "0          Northern Norway Regional Health Authority   \n",
       "0          Northern Norway Regional Health Authority   \n",
       "0          Northern Norway Regional Health Authority   \n",
       "0  Southern and Eastern Norway Regional Health Au...   \n",
       "0  Southern and Eastern Norway Regional Health Au...   \n",
       "0  Southern and Eastern Norway Regional Health Au...   \n",
       "0  Southern and Eastern Norway Regional Health Au...   \n",
       "0  Southern and Eastern Norway Regional Health Au...   \n",
       "0  Southern and Eastern Norway Regional Health Au...   \n",
       "0           Western Norway Regional Health Authority   \n",
       "0           Western Norway Regional Health Authority   \n",
       "0           Western Norway Regional Health Authority   \n",
       "\n",
       "                                         description  \n",
       "0  With over 24,000 employees it is the largest h...  \n",
       "0  The trust is owned by Central Norway Regional ...  \n",
       "0  The trust has about 2,500 employees and has ab...  \n",
       "0  It performed 274,441 somatic and 88,692 psychi...  \n",
       "0  The trust is part of Northern Norway Regional ...  \n",
       "0                 It has a polyclinic in Brønnøysund  \n",
       "0  Manages several minor psychiatric treatment fa...  \n",
       "0  Since 2002, the university hospital has figure...  \n",
       "0  It is owned by Southern and Eastern Norway Reg...  \n",
       "0  It covers an area with 470,000 residents in 26...  \n",
       "0  The total employees in 2003 were 2750, of whic...  \n",
       "0  It is owned by the Norwegian state through Sou...  \n",
       "0  There are also smaller centres at Risør, Grims...  \n",
       "0  Fonna Health Trust is one of five local health...  \n",
       "0  There are six clinics and one division, divide...  \n",
       "0  One of the five health trusts owned by the Wes...  "
      ]
     },
     "execution_count": 48,
     "metadata": {},
     "output_type": "execute_result"
    }
   ],
   "source": [
    "Hospitals.insert(loc=4, column=\"Regional Health Authority\", value=['Southern and Eastern Norway Regional Health Authority','Central Norway Regional Health Authority',\n",
    "'Central Norway Regional Health Authority','Central Norway Regional Health Authority',\n",
    "'Northern Norway Regional Health Authority','Northern Norway Regional Health Authority',\n",
    "'Northern Norway Regional Health Authority','Southern and Eastern Norway Regional Health Authority',\n",
    "'Southern and Eastern Norway Regional Health Authority','Southern and Eastern Norway Regional Health Authority',\n",
    "'Southern and Eastern Norway Regional Health Authority','Southern and Eastern Norway Regional Health Authority',\n",
    "'Southern and Eastern Norway Regional Health Authority','Western Norway Regional Health Authority',\n",
    "'Western Norway Regional Health Authority','Western Norway Regional Health Authority'])\n",
    "\n",
    "Hospitals"
   ]
  },
  {
   "cell_type": "markdown",
   "id": "9f724bc4",
   "metadata": {},
   "source": [
    "3. Question 3\n",
    "\n",
    "In the first part I will look into various aspects of all of the hospitals, and in the second part I will look into Oslo University Hospital specifically.\n",
    "\n",
    "In part 1, there are a few points I will explore:\n",
    "- How many patients are staying in the hospital currently?\n",
    "- How many number of beds are available currently?"
   ]
  },
  {
   "cell_type": "markdown",
   "id": "c8e602cb",
   "metadata": {},
   "source": [
    "#Inserting necessary columns\n",
    "\n",
    "I will insert the following columns: \n",
    "'Current Number of Patients'\n",
    "'Current Number of Available Beds'"
   ]
  },
  {
   "cell_type": "code",
   "execution_count": 49,
   "id": "78ce135b",
   "metadata": {},
   "outputs": [
    {
     "data": {
      "text/html": [
       "<div>\n",
       "<style scoped>\n",
       "    .dataframe tbody tr th:only-of-type {\n",
       "        vertical-align: middle;\n",
       "    }\n",
       "\n",
       "    .dataframe tbody tr th {\n",
       "        vertical-align: top;\n",
       "    }\n",
       "\n",
       "    .dataframe thead th {\n",
       "        text-align: right;\n",
       "    }\n",
       "</style>\n",
       "<table border=\"1\" class=\"dataframe\">\n",
       "  <thead>\n",
       "    <tr style=\"text-align: right;\">\n",
       "      <th></th>\n",
       "      <th>name</th>\n",
       "      <th>major_location</th>\n",
       "      <th>established</th>\n",
       "      <th>main_campus</th>\n",
       "      <th>Regional Health Authority</th>\n",
       "      <th>Current Number of Patients</th>\n",
       "      <th>Current Number of Available Beds</th>\n",
       "      <th>description</th>\n",
       "    </tr>\n",
       "  </thead>\n",
       "  <tbody>\n",
       "    <tr>\n",
       "      <th>0</th>\n",
       "      <td>Oslo University Hospital</td>\n",
       "      <td>Oslo</td>\n",
       "      <td>2009</td>\n",
       "      <td>Aker, Riks, Ullevål</td>\n",
       "      <td>Southern and Eastern Norway Regional Health Au...</td>\n",
       "      <td>1320</td>\n",
       "      <td>500</td>\n",
       "      <td>With over 24,000 employees it is the largest h...</td>\n",
       "    </tr>\n",
       "    <tr>\n",
       "      <th>0</th>\n",
       "      <td>Møre og Romsdal Hospital Trust</td>\n",
       "      <td>Ålesund</td>\n",
       "      <td>2011</td>\n",
       "      <td>Kristiansund,Molde,Ålesund,Volda</td>\n",
       "      <td>Central Norway Regional Health Authority</td>\n",
       "      <td>938</td>\n",
       "      <td>210</td>\n",
       "      <td>The trust is owned by Central Norway Regional ...</td>\n",
       "    </tr>\n",
       "    <tr>\n",
       "      <th>0</th>\n",
       "      <td>Nord-Trøndelag Health Trust</td>\n",
       "      <td>Nord-Trøndelag</td>\n",
       "      <td>2012</td>\n",
       "      <td>Levanger, Namsos</td>\n",
       "      <td>Central Norway Regional Health Authority</td>\n",
       "      <td>392</td>\n",
       "      <td>492</td>\n",
       "      <td>The trust has about 2,500 employees and has ab...</td>\n",
       "    </tr>\n",
       "    <tr>\n",
       "      <th>0</th>\n",
       "      <td>St.Olavs University Hospital</td>\n",
       "      <td>Trondheim</td>\n",
       "      <td>1902</td>\n",
       "      <td>Øya</td>\n",
       "      <td>Central Norway Regional Health Authority</td>\n",
       "      <td>311</td>\n",
       "      <td>210</td>\n",
       "      <td>It performed 274,441 somatic and 88,692 psychi...</td>\n",
       "    </tr>\n",
       "    <tr>\n",
       "      <th>0</th>\n",
       "      <td>Finnmark Hospital Trust</td>\n",
       "      <td>Finnmark</td>\n",
       "      <td>2005</td>\n",
       "      <td>Hammerfest, Kirkenes</td>\n",
       "      <td>Northern Norway Regional Health Authority</td>\n",
       "      <td>123</td>\n",
       "      <td>293</td>\n",
       "      <td>The trust is part of Northern Norway Regional ...</td>\n",
       "    </tr>\n",
       "    <tr>\n",
       "      <th>0</th>\n",
       "      <td>Helgeland Hospital Trust</td>\n",
       "      <td>Helgeland</td>\n",
       "      <td>2002</td>\n",
       "      <td>Mo i Rana, Mosjøen, Sandnessjøen</td>\n",
       "      <td>Northern Norway Regional Health Authority</td>\n",
       "      <td>164</td>\n",
       "      <td>92</td>\n",
       "      <td>It has a polyclinic in Brønnøysund</td>\n",
       "    </tr>\n",
       "    <tr>\n",
       "      <th>0</th>\n",
       "      <td>Nordland Hospital Trust</td>\n",
       "      <td>Nordland</td>\n",
       "      <td>2002</td>\n",
       "      <td>Bodø,Rønvik,Lofoten,Vesterålen</td>\n",
       "      <td>Northern Norway Regional Health Authority</td>\n",
       "      <td>189</td>\n",
       "      <td>104</td>\n",
       "      <td>Manages several minor psychiatric treatment fa...</td>\n",
       "    </tr>\n",
       "    <tr>\n",
       "      <th>0</th>\n",
       "      <td>Akershus University Hospital</td>\n",
       "      <td>Greater Oslo</td>\n",
       "      <td>1961</td>\n",
       "      <td>Lørenskog</td>\n",
       "      <td>Southern and Eastern Norway Regional Health Au...</td>\n",
       "      <td>428</td>\n",
       "      <td>482</td>\n",
       "      <td>Since 2002, the university hospital has figure...</td>\n",
       "    </tr>\n",
       "    <tr>\n",
       "      <th>0</th>\n",
       "      <td>Innlandet Hospital Trust</td>\n",
       "      <td>Hedmark,Oppland</td>\n",
       "      <td>2001</td>\n",
       "      <td>Elverum-Hamar,Gjøvik,Lillehammer,Kongsvinger,T...</td>\n",
       "      <td>Southern and Eastern Norway Regional Health Au...</td>\n",
       "      <td>522</td>\n",
       "      <td>183</td>\n",
       "      <td>It is owned by Southern and Eastern Norway Reg...</td>\n",
       "    </tr>\n",
       "    <tr>\n",
       "      <th>0</th>\n",
       "      <td>Vestre Viken Hospital Trust</td>\n",
       "      <td>Drammen</td>\n",
       "      <td>1878</td>\n",
       "      <td>Kongsberg, Ringerike, Bærum, Drammen</td>\n",
       "      <td>Southern and Eastern Norway Regional Health Au...</td>\n",
       "      <td>194</td>\n",
       "      <td>192</td>\n",
       "      <td>It covers an area with 470,000 residents in 26...</td>\n",
       "    </tr>\n",
       "    <tr>\n",
       "      <th>0</th>\n",
       "      <td>Telemark Hospital Trust</td>\n",
       "      <td>Skien</td>\n",
       "      <td>1988</td>\n",
       "      <td>Skien</td>\n",
       "      <td>Southern and Eastern Norway Regional Health Au...</td>\n",
       "      <td>822</td>\n",
       "      <td>301</td>\n",
       "      <td>The total employees in 2003 were 2750, of whic...</td>\n",
       "    </tr>\n",
       "    <tr>\n",
       "      <th>0</th>\n",
       "      <td>Vestfold Hospital Trust</td>\n",
       "      <td>Vestfold</td>\n",
       "      <td>1870</td>\n",
       "      <td>Tønsberg</td>\n",
       "      <td>Southern and Eastern Norway Regional Health Au...</td>\n",
       "      <td>135</td>\n",
       "      <td>481</td>\n",
       "      <td>It is owned by the Norwegian state through Sou...</td>\n",
       "    </tr>\n",
       "    <tr>\n",
       "      <th>0</th>\n",
       "      <td>Hospital of Southern Norway</td>\n",
       "      <td>Agder</td>\n",
       "      <td>2003</td>\n",
       "      <td>Arendal,Flekkefjord,Kristiansand</td>\n",
       "      <td>Southern and Eastern Norway Regional Health Au...</td>\n",
       "      <td>428</td>\n",
       "      <td>320</td>\n",
       "      <td>There are also smaller centres at Risør, Grims...</td>\n",
       "    </tr>\n",
       "    <tr>\n",
       "      <th>0</th>\n",
       "      <td>Fonna Hospital Trust</td>\n",
       "      <td>Haugesund</td>\n",
       "      <td>2002</td>\n",
       "      <td>Haugaland,Sunnhordland,Hardanger</td>\n",
       "      <td>Western Norway Regional Health Authority</td>\n",
       "      <td>722</td>\n",
       "      <td>110</td>\n",
       "      <td>Fonna Health Trust is one of five local health...</td>\n",
       "    </tr>\n",
       "    <tr>\n",
       "      <th>0</th>\n",
       "      <td>Førde Hospital Trust</td>\n",
       "      <td>Sogn og Fjordane</td>\n",
       "      <td>2002</td>\n",
       "      <td>Nordfjord,Sunnfjord,Sogn</td>\n",
       "      <td>Western Norway Regional Health Authority</td>\n",
       "      <td>572</td>\n",
       "      <td>84</td>\n",
       "      <td>There are six clinics and one division, divide...</td>\n",
       "    </tr>\n",
       "    <tr>\n",
       "      <th>0</th>\n",
       "      <td>Bergen Hospital Trust</td>\n",
       "      <td>Bergen</td>\n",
       "      <td>2002</td>\n",
       "      <td>Hordaland</td>\n",
       "      <td>Western Norway Regional Health Authority</td>\n",
       "      <td>482</td>\n",
       "      <td>288</td>\n",
       "      <td>One of the five health trusts owned by the Wes...</td>\n",
       "    </tr>\n",
       "  </tbody>\n",
       "</table>\n",
       "</div>"
      ],
      "text/plain": [
       "                             name    major_location established  \\\n",
       "0        Oslo University Hospital              Oslo        2009   \n",
       "0  Møre og Romsdal Hospital Trust           Ålesund        2011   \n",
       "0     Nord-Trøndelag Health Trust    Nord-Trøndelag        2012   \n",
       "0    St.Olavs University Hospital         Trondheim        1902   \n",
       "0         Finnmark Hospital Trust          Finnmark        2005   \n",
       "0        Helgeland Hospital Trust         Helgeland        2002   \n",
       "0         Nordland Hospital Trust          Nordland        2002   \n",
       "0    Akershus University Hospital      Greater Oslo        1961   \n",
       "0        Innlandet Hospital Trust   Hedmark,Oppland        2001   \n",
       "0     Vestre Viken Hospital Trust           Drammen        1878   \n",
       "0         Telemark Hospital Trust             Skien        1988   \n",
       "0         Vestfold Hospital Trust          Vestfold        1870   \n",
       "0     Hospital of Southern Norway             Agder        2003   \n",
       "0            Fonna Hospital Trust         Haugesund        2002   \n",
       "0            Førde Hospital Trust  Sogn og Fjordane        2002   \n",
       "0           Bergen Hospital Trust            Bergen        2002   \n",
       "\n",
       "                                         main_campus  \\\n",
       "0                                Aker, Riks, Ullevål   \n",
       "0                   Kristiansund,Molde,Ålesund,Volda   \n",
       "0                                   Levanger, Namsos   \n",
       "0                                                Øya   \n",
       "0                               Hammerfest, Kirkenes   \n",
       "0                   Mo i Rana, Mosjøen, Sandnessjøen   \n",
       "0                     Bodø,Rønvik,Lofoten,Vesterålen   \n",
       "0                                          Lørenskog   \n",
       "0  Elverum-Hamar,Gjøvik,Lillehammer,Kongsvinger,T...   \n",
       "0               Kongsberg, Ringerike, Bærum, Drammen   \n",
       "0                                              Skien   \n",
       "0                                           Tønsberg   \n",
       "0                   Arendal,Flekkefjord,Kristiansand   \n",
       "0                   Haugaland,Sunnhordland,Hardanger   \n",
       "0                           Nordfjord,Sunnfjord,Sogn   \n",
       "0                                          Hordaland   \n",
       "\n",
       "                           Regional Health Authority  \\\n",
       "0  Southern and Eastern Norway Regional Health Au...   \n",
       "0           Central Norway Regional Health Authority   \n",
       "0           Central Norway Regional Health Authority   \n",
       "0           Central Norway Regional Health Authority   \n",
       "0          Northern Norway Regional Health Authority   \n",
       "0          Northern Norway Regional Health Authority   \n",
       "0          Northern Norway Regional Health Authority   \n",
       "0  Southern and Eastern Norway Regional Health Au...   \n",
       "0  Southern and Eastern Norway Regional Health Au...   \n",
       "0  Southern and Eastern Norway Regional Health Au...   \n",
       "0  Southern and Eastern Norway Regional Health Au...   \n",
       "0  Southern and Eastern Norway Regional Health Au...   \n",
       "0  Southern and Eastern Norway Regional Health Au...   \n",
       "0           Western Norway Regional Health Authority   \n",
       "0           Western Norway Regional Health Authority   \n",
       "0           Western Norway Regional Health Authority   \n",
       "\n",
       "   Current Number of Patients  Current Number of Available Beds  \\\n",
       "0                        1320                               500   \n",
       "0                         938                               210   \n",
       "0                         392                               492   \n",
       "0                         311                               210   \n",
       "0                         123                               293   \n",
       "0                         164                                92   \n",
       "0                         189                               104   \n",
       "0                         428                               482   \n",
       "0                         522                               183   \n",
       "0                         194                               192   \n",
       "0                         822                               301   \n",
       "0                         135                               481   \n",
       "0                         428                               320   \n",
       "0                         722                               110   \n",
       "0                         572                                84   \n",
       "0                         482                               288   \n",
       "\n",
       "                                         description  \n",
       "0  With over 24,000 employees it is the largest h...  \n",
       "0  The trust is owned by Central Norway Regional ...  \n",
       "0  The trust has about 2,500 employees and has ab...  \n",
       "0  It performed 274,441 somatic and 88,692 psychi...  \n",
       "0  The trust is part of Northern Norway Regional ...  \n",
       "0                 It has a polyclinic in Brønnøysund  \n",
       "0  Manages several minor psychiatric treatment fa...  \n",
       "0  Since 2002, the university hospital has figure...  \n",
       "0  It is owned by Southern and Eastern Norway Reg...  \n",
       "0  It covers an area with 470,000 residents in 26...  \n",
       "0  The total employees in 2003 were 2750, of whic...  \n",
       "0  It is owned by the Norwegian state through Sou...  \n",
       "0  There are also smaller centres at Risør, Grims...  \n",
       "0  Fonna Health Trust is one of five local health...  \n",
       "0  There are six clinics and one division, divide...  \n",
       "0  One of the five health trusts owned by the Wes...  "
      ]
     },
     "execution_count": 49,
     "metadata": {},
     "output_type": "execute_result"
    }
   ],
   "source": [
    "Hospitals.insert(loc=5, column='Current Number of Patients', value = [1320,938,392,311,123,164,189,428,522,194,822,135,428,722,572,482])\n",
    "Hospitals.insert(loc=6, column='Current Number of Available Beds', value = [500,210,492,210,293,92,104,482,183,192,301,481,320,110,84,288])\n",
    "\n",
    "Hospitals"
   ]
  },
  {
   "cell_type": "code",
   "execution_count": 50,
   "id": "c4478088",
   "metadata": {},
   "outputs": [
    {
     "data": {
      "image/png": "[encoded data removed]",
      "text/plain": [
       "<Figure size 864x720 with 1 Axes>"
      ]
     },
     "metadata": {
      "needs_background": "light"
     },
     "output_type": "display_data"
    }
   ],
   "source": [
    "#Visualization of current number of patients\n",
    "#Using barplot to compare\n",
    "\n",
    "plt.figure(figsize=(12,10))\n",
    "sns.barplot(\n",
    "    data= Hospitals,  \n",
    "    x = \"Current Number of Patients\",\n",
    "    y = \"name\"\n",
    ")\n",
    "\n",
    "plt.show()\n"
   ]
  },
  {
   "cell_type": "code",
   "execution_count": 52,
   "id": "c3368c4b",
   "metadata": {},
   "outputs": [
    {
     "data": {
      "image/png": "[encoded data removed]",
      "text/plain": [
       "<Figure size 864x720 with 1 Axes>"
      ]
     },
     "metadata": {
      "needs_background": "light"
     },
     "output_type": "display_data"
    }
   ],
   "source": [
    "plt.figure(figsize=(12,10))\n",
    "sns.barplot(\n",
    "    data= Hospitals,\n",
    "    y= \"name\",\n",
    "    x= \"Current Number of Available Beds\"\n",
    ")\n",
    "plt.show()"
   ]
  },
  {
   "cell_type": "markdown",
   "id": "8f8a7891",
   "metadata": {},
   "source": [
    "From the two graphs above we can see that Oslo University Hospital has the most patients currently staying at the hospital. There are the least patients in Finnmark Hospital.\n",
    "\n",
    "Oslo University Hospital tops again at current number of available beds, and as a result we can assume that it has the most large capacity out of all of the hospitals compared. Nord-Trøndelag Hospital, Akerhus University Hospital and Vestfold Hospital also has almost the same amount of available beds, scoring the top4.\n",
    "\n",
    "Helgeland Hospital, Førde Hospital has the least amount of available bed, the sum around 100 beds. Nordland Hospital and Fonna Hospital also has around 100 beds left.\n",
    "\n",
    "Helgeland Hospital and Nordland Hospital scores low in both number of patients and beds, they would have to make room for improvement in the coming years."
   ]
  },
  {
   "cell_type": "markdown",
   "id": "581ad2dc",
   "metadata": {},
   "source": [
    "In Part 2, I will assess Oslo University Hospital specifically. \n",
    "\n",
    "I will specify the following questions:\n",
    "- Patient Satisfaction\n",
    "- Patient Count by Week (Inpatient / Outpatient)"
   ]
  },
  {
   "cell_type": "code",
   "execution_count": 54,
   "id": "c5976ec5",
   "metadata": {},
   "outputs": [],
   "source": [
    "#Making a DataFrame regarding patient satisfaction\n",
    "#Create Pieplot to compare the percentage"
   ]
  },
  {
   "cell_type": "code",
   "execution_count": 87,
   "id": "ffa1eabb",
   "metadata": {},
   "outputs": [
    {
     "data": {
      "image/png": "[encoded data removed]",
      "text/plain": [
       "<Figure size 360x360 with 1 Axes>"
      ]
     },
     "metadata": {},
     "output_type": "display_data"
    }
   ],
   "source": [
    "ps = pd.DataFrame({'Patient Satisfaction': [15,40,21,24]},\n",
    "                  index=['poor', 'good', 'very good', 'excellent'])\n",
    "colors = ['#ff6666', '#ffcc99', '#99ff99', '#66b3ff']\n",
    "plot = ps.plot.pie(y='Patient Satisfaction', figsize=(5, 5), colors=colors)\n",
    "\n",
    "#I brought the color code from this site: https://medium.com/@kvnamipara/a-better-visualisation-of-pie-charts-by-matplotlib-935b7667d77f"
   ]
  },
  {
   "cell_type": "markdown",
   "id": "183d08d8",
   "metadata": {},
   "source": [
    "Almost half of the patients answered 'good' on the service they received at the hospital. The least people answered 'poor', which means most of the people were somewhat satisfied with Oslo University Hospital. "
   ]
  },
  {
   "cell_type": "code",
   "execution_count": 58,
   "id": "22571829",
   "metadata": {},
   "outputs": [],
   "source": [
    "#Making a DataFrame regarding patient count by week\n",
    "#I will make two DataFrames, differentiating incoming patients and patients who are leaving the hospital."
   ]
  },
  {
   "cell_type": "code",
   "execution_count": 75,
   "id": "c60bb052",
   "metadata": {},
   "outputs": [],
   "source": [
    "in_patients = pd.DataFrame({'In Patients':[295,391,528,402,321,582,691,272]},\n",
    "                          {index=['week 34','week 35','week 36','week 37','week 38','week 39','week 40','week 41'])\n",
    "out_patients = pd.DataFrame({'Out Patients':[731,381,582,199,572,682,723,119]},\n",
    "                           index=['week 34','week 35','week 36','week 37','week 38','week 39','week 40','week 41'])"
   ]
  },
  {
   "cell_type": "code",
   "execution_count": 77,
   "id": "a9a178e6",
   "metadata": {},
   "outputs": [
    {
     "data": {
      "text/html": [
       "<div>\n",
       "<style scoped>\n",
       "    .dataframe tbody tr th:only-of-type {\n",
       "        vertical-align: middle;\n",
       "    }\n",
       "\n",
       "    .dataframe tbody tr th {\n",
       "        vertical-align: top;\n",
       "    }\n",
       "\n",
       "    .dataframe thead th {\n",
       "        text-align: right;\n",
       "    }\n",
       "</style>\n",
       "<table border=\"1\" class=\"dataframe\">\n",
       "  <thead>\n",
       "    <tr style=\"text-align: right;\">\n",
       "      <th></th>\n",
       "      <th>In Patients</th>\n",
       "    </tr>\n",
       "  </thead>\n",
       "  <tbody>\n",
       "    <tr>\n",
       "      <th>week 34</th>\n",
       "      <td>295</td>\n",
       "    </tr>\n",
       "    <tr>\n",
       "      <th>week 35</th>\n",
       "      <td>391</td>\n",
       "    </tr>\n",
       "    <tr>\n",
       "      <th>week 36</th>\n",
       "      <td>528</td>\n",
       "    </tr>\n",
       "    <tr>\n",
       "      <th>week 37</th>\n",
       "      <td>402</td>\n",
       "    </tr>\n",
       "    <tr>\n",
       "      <th>week 38</th>\n",
       "      <td>321</td>\n",
       "    </tr>\n",
       "    <tr>\n",
       "      <th>week 39</th>\n",
       "      <td>582</td>\n",
       "    </tr>\n",
       "    <tr>\n",
       "      <th>week 40</th>\n",
       "      <td>691</td>\n",
       "    </tr>\n",
       "    <tr>\n",
       "      <th>week 41</th>\n",
       "      <td>272</td>\n",
       "    </tr>\n",
       "  </tbody>\n",
       "</table>\n",
       "</div>"
      ],
      "text/plain": [
       "         In Patients\n",
       "week 34          295\n",
       "week 35          391\n",
       "week 36          528\n",
       "week 37          402\n",
       "week 38          321\n",
       "week 39          582\n",
       "week 40          691\n",
       "week 41          272"
      ]
     },
     "execution_count": 77,
     "metadata": {},
     "output_type": "execute_result"
    }
   ],
   "source": [
    "in_patients"
   ]
  },
  {
   "cell_type": "code",
   "execution_count": 78,
   "id": "45df6a3e",
   "metadata": {},
   "outputs": [
    {
     "data": {
      "text/html": [
       "<div>\n",
       "<style scoped>\n",
       "    .dataframe tbody tr th:only-of-type {\n",
       "        vertical-align: middle;\n",
       "    }\n",
       "\n",
       "    .dataframe tbody tr th {\n",
       "        vertical-align: top;\n",
       "    }\n",
       "\n",
       "    .dataframe thead th {\n",
       "        text-align: right;\n",
       "    }\n",
       "</style>\n",
       "<table border=\"1\" class=\"dataframe\">\n",
       "  <thead>\n",
       "    <tr style=\"text-align: right;\">\n",
       "      <th></th>\n",
       "      <th>Out Patients</th>\n",
       "    </tr>\n",
       "  </thead>\n",
       "  <tbody>\n",
       "    <tr>\n",
       "      <th>week 34</th>\n",
       "      <td>731</td>\n",
       "    </tr>\n",
       "    <tr>\n",
       "      <th>week 35</th>\n",
       "      <td>381</td>\n",
       "    </tr>\n",
       "    <tr>\n",
       "      <th>week 36</th>\n",
       "      <td>582</td>\n",
       "    </tr>\n",
       "    <tr>\n",
       "      <th>week 37</th>\n",
       "      <td>199</td>\n",
       "    </tr>\n",
       "    <tr>\n",
       "      <th>week 38</th>\n",
       "      <td>572</td>\n",
       "    </tr>\n",
       "    <tr>\n",
       "      <th>week 39</th>\n",
       "      <td>682</td>\n",
       "    </tr>\n",
       "    <tr>\n",
       "      <th>week 40</th>\n",
       "      <td>723</td>\n",
       "    </tr>\n",
       "    <tr>\n",
       "      <th>week 41</th>\n",
       "      <td>119</td>\n",
       "    </tr>\n",
       "  </tbody>\n",
       "</table>\n",
       "</div>"
      ],
      "text/plain": [
       "         Out Patients\n",
       "week 34           731\n",
       "week 35           381\n",
       "week 36           582\n",
       "week 37           199\n",
       "week 38           572\n",
       "week 39           682\n",
       "week 40           723\n",
       "week 41           119"
      ]
     },
     "execution_count": 78,
     "metadata": {},
     "output_type": "execute_result"
    }
   ],
   "source": [
    "out_patients"
   ]
  },
  {
   "cell_type": "code",
   "execution_count": 79,
   "id": "82e85bb2",
   "metadata": {},
   "outputs": [],
   "source": [
    "#concat two dataframes"
   ]
  },
  {
   "cell_type": "code",
   "execution_count": 81,
   "id": "0e325576",
   "metadata": {},
   "outputs": [
    {
     "data": {
      "text/html": [
       "<div>\n",
       "<style scoped>\n",
       "    .dataframe tbody tr th:only-of-type {\n",
       "        vertical-align: middle;\n",
       "    }\n",
       "\n",
       "    .dataframe tbody tr th {\n",
       "        vertical-align: top;\n",
       "    }\n",
       "\n",
       "    .dataframe thead th {\n",
       "        text-align: right;\n",
       "    }\n",
       "</style>\n",
       "<table border=\"1\" class=\"dataframe\">\n",
       "  <thead>\n",
       "    <tr style=\"text-align: right;\">\n",
       "      <th></th>\n",
       "      <th>In Patients</th>\n",
       "      <th>Out Patients</th>\n",
       "    </tr>\n",
       "  </thead>\n",
       "  <tbody>\n",
       "    <tr>\n",
       "      <th>week 34</th>\n",
       "      <td>295</td>\n",
       "      <td>731</td>\n",
       "    </tr>\n",
       "    <tr>\n",
       "      <th>week 35</th>\n",
       "      <td>391</td>\n",
       "      <td>381</td>\n",
       "    </tr>\n",
       "    <tr>\n",
       "      <th>week 36</th>\n",
       "      <td>528</td>\n",
       "      <td>582</td>\n",
       "    </tr>\n",
       "    <tr>\n",
       "      <th>week 37</th>\n",
       "      <td>402</td>\n",
       "      <td>199</td>\n",
       "    </tr>\n",
       "    <tr>\n",
       "      <th>week 38</th>\n",
       "      <td>321</td>\n",
       "      <td>572</td>\n",
       "    </tr>\n",
       "    <tr>\n",
       "      <th>week 39</th>\n",
       "      <td>582</td>\n",
       "      <td>682</td>\n",
       "    </tr>\n",
       "    <tr>\n",
       "      <th>week 40</th>\n",
       "      <td>691</td>\n",
       "      <td>723</td>\n",
       "    </tr>\n",
       "    <tr>\n",
       "      <th>week 41</th>\n",
       "      <td>272</td>\n",
       "      <td>119</td>\n",
       "    </tr>\n",
       "  </tbody>\n",
       "</table>\n",
       "</div>"
      ],
      "text/plain": [
       "         In Patients  Out Patients\n",
       "week 34          295           731\n",
       "week 35          391           381\n",
       "week 36          528           582\n",
       "week 37          402           199\n",
       "week 38          321           572\n",
       "week 39          582           682\n",
       "week 40          691           723\n",
       "week 41          272           119"
      ]
     },
     "execution_count": 81,
     "metadata": {},
     "output_type": "execute_result"
    }
   ],
   "source": [
    "patient_count = pd.concat([in_patients, out_patients], axis=1)\n",
    "patient_count"
   ]
  },
  {
   "cell_type": "code",
   "execution_count": 84,
   "id": "19e59567",
   "metadata": {},
   "outputs": [
    {
     "data": {
      "image/png": "[encoded data removed]",
      "text/plain": [
       "<Figure size 432x288 with 1 Axes>"
      ]
     },
     "metadata": {
      "needs_background": "light"
     },
     "output_type": "display_data"
    }
   ],
   "source": [
    "#Create Lineplot with the concatenated dataframe\n",
    "\n",
    "sns.lineplot(data=patient_count)\n",
    "plt.title('Patient Count by Week')\n",
    "plt.show()"
   ]
  },
  {
   "cell_type": "markdown",
   "id": "7aa3bb1c",
   "metadata": {},
   "source": [
    "The graph above depicts the change of number of patients counted by week34 to week41. \n",
    "\n",
    "There where more than 700 patients leaving the hospital on week 34, and only about 300 incoming patients.\n",
    "From week 35 to week 41, the change of numbers of in patients and out patients where about the same, creating a similar slope in the graph. "
   ]
  },
  {
   "cell_type": "markdown",
   "id": "e6c6da3d",
   "metadata": {},
   "source": [
    "Conclusion\n",
    "\n",
    "In question 1, the goal was to explore one dataset with a lot of data recorded inside. I assessed the data by visualizing the numbers into graphs, using seaborn and pandas libraries. \n",
    "\n",
    "In question 2, I made a number of series for each of the data then transforming it into datasets, merging those to one later on. I added another column to an already existing dataframe. \n",
    "\n",
    "From question 3, I explored hospital analytics, exploring numerous hospitals together and then delving deeper into one hospital in particular. Overall the dataset was great to explore about the real hands-on tasks that I can use in the future. "
   ]
  }
 ],
 "metadata": {
  "kernelspec": {
   "display_name": "Python 3",
   "language": "python",
   "name": "python3"
  },
  "language_info": {
   "codemirror_mode": {
    "name": "ipython",
    "version": 3
   },
   "file_extension": ".py",
   "mimetype": "text/x-python",
   "name": "python",
   "nbconvert_exporter": "python",
   "pygments_lexer": "ipython3",
   "version": "3.8.8"
  }
 },
 "nbformat": 4,
 "nbformat_minor": 5
}
